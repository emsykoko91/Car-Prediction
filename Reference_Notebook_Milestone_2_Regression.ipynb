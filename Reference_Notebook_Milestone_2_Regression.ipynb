{
 "cells": [
  {
   "cell_type": "markdown",
   "metadata": {
    "id": "xWKrvyhfVL3e"
   },
   "source": [
    "# **Milestone 2**"
   ]
  },
  {
   "cell_type": "markdown",
   "metadata": {
    "id": "Rzh8pcvmtOS8"
   },
   "source": [
    "## **Model Building**\n",
    "\n",
    "1. What we want to predict is the \"Price\". We will use the normalized version 'price_log' for modeling.\n",
    "2. Before we proceed to the model, we'll have to encode categorical features. We will drop categorical features like Name. \n",
    "3. We'll split the data into train and test, to be able to evaluate the model that we build on the train data.\n",
    "4. Build Regression models using train data.\n",
    "5. Evaluate the model performance."
   ]
  },
  {
   "cell_type": "markdown",
   "metadata": {},
   "source": [
    "**Note:** Please load the data frame that was saved in Milestone 1 here before separating the data, and then proceed to the next step in Milestone 2."
   ]
  },
  {
   "cell_type": "markdown",
   "metadata": {},
   "source": [
    "### **Load the data**"
   ]
  },
  {
   "cell_type": "code",
   "execution_count": 692,
   "metadata": {},
   "outputs": [],
   "source": [
    "\n",
    "### Libraries\n",
    "from sklearn.model_selection import train_test_split\n",
    "import pandas as pd\n",
    "import numpy as np\n",
    "import matplotlib.pyplot as plt\n",
    "import seaborn as sns\n",
    "sns.set()\n",
    "from sklearn.naive_bayes import GaussianNB\n",
    "from sklearn.linear_model import LogisticRegression\n",
    "from sklearn.svm import SVC\n",
    "\n",
    "\n",
    "cars_data =  pd.read_pickle(\"cleaned.csv\")"
   ]
  },
  {
   "cell_type": "code",
   "execution_count": 531,
   "metadata": {},
   "outputs": [
    {
     "data": {
      "text/plain": [
       "Name                     0\n",
       "Location                 0\n",
       "Year                     0\n",
       "Kilometers_Driven        0\n",
       "Fuel_Type                0\n",
       "Transmission             0\n",
       "Owner_Type               0\n",
       "Mileage                  0\n",
       "Engine                   0\n",
       "Power                    0\n",
       "Seats                    0\n",
       "New_price                0\n",
       "Price                    0\n",
       "kilometers_driven_log    0\n",
       "Price_log                0\n",
       "Brand                    0\n",
       "Model                    0\n",
       "dtype: int64"
      ]
     },
     "execution_count": 531,
     "metadata": {},
     "output_type": "execute_result"
    }
   ],
   "source": [
    "cars_data.isnull().sum()"
   ]
  },
  {
   "cell_type": "code",
   "execution_count": 712,
   "metadata": {},
   "outputs": [
    {
     "name": "stdout",
     "output_type": "stream",
     "text": [
      "<class 'pandas.core.frame.DataFrame'>\n",
      "Int64Index: 5 entries, 0 to 4\n",
      "Data columns (total 17 columns):\n",
      " #   Column                 Non-Null Count  Dtype  \n",
      "---  ------                 --------------  -----  \n",
      " 0   Name                   5 non-null      object \n",
      " 1   Location               5 non-null      object \n",
      " 2   Year                   5 non-null      int64  \n",
      " 3   Kilometers_Driven      5 non-null      int64  \n",
      " 4   Fuel_Type              5 non-null      object \n",
      " 5   Transmission           5 non-null      object \n",
      " 6   Owner_Type             5 non-null      object \n",
      " 7   Mileage                5 non-null      float64\n",
      " 8   Engine                 5 non-null      float64\n",
      " 9   Power                  5 non-null      float64\n",
      " 10  Seats                  5 non-null      float64\n",
      " 11  New_price              5 non-null      float64\n",
      " 12  Price                  5 non-null      float64\n",
      " 13  kilometers_driven_log  5 non-null      float64\n",
      " 14  Price_log              5 non-null      float64\n",
      " 15  Brand                  5 non-null      object \n",
      " 16  Model                  5 non-null      object \n",
      "dtypes: float64(8), int64(2), object(7)\n",
      "memory usage: 720.0+ bytes\n"
     ]
    }
   ],
   "source": [
    "cars_data.head().info()"
   ]
  },
  {
   "cell_type": "markdown",
   "metadata": {
    "id": "0L-oAMItxLP-"
   },
   "source": [
    "### **Split the Data**"
   ]
  },
  {
   "cell_type": "markdown",
   "metadata": {
    "id": "Aat-Ne-ZVL3e"
   },
   "source": [
    "<li>Step1: Seperating the indepdent variables (X) and the dependent variable (y). \n",
    "<li>Step2: Encode the categorical variables in X using pd.dummies.\n",
    "<li>Step3: Split the data into train and test using train_test_split."
   ]
  },
  {
   "cell_type": "markdown",
   "metadata": {
    "id": "Cwh_IhfqVL3f"
   },
   "source": [
    "**Think about it:** Why we should drop 'Name','Price','price_log','Kilometers_Driven' from X before splitting?"
   ]
  },
  {
   "cell_type": "markdown",
   "metadata": {},
   "source": [
    "Name has no predictive power so it wont add anything useful to the model. Price and price_log are the target/dependent variables so they have to be dropped from the independent features of the model. Kilometer Driven is dropped because we are using the log version of it instead in the model. "
   ]
  },
  {
   "cell_type": "code",
   "execution_count": 296,
   "metadata": {
    "id": "NTly1jIxtOS8"
   },
   "outputs": [],
   "source": [
    "# Step-1\n",
    "X = cars_data.drop(['Name','Price','Price_log','Kilometers_Driven','Model'], axis = 1)\n",
    "\n",
    "y = cars_data[[\"Price_log\", \"Price\"]]"
   ]
  },
  {
   "cell_type": "code",
   "execution_count": 297,
   "metadata": {
    "id": "vzCLGMzbVL3f"
   },
   "outputs": [],
   "source": [
    "# Step-2 Use pd.get_dummies(drop_first = True)\n",
    "X = pd.get_dummies(X, drop_first = True)"
   ]
  },
  {
   "cell_type": "code",
   "execution_count": 298,
   "metadata": {},
   "outputs": [
    {
     "data": {
      "text/html": [
       "<div>\n",
       "<style scoped>\n",
       "    .dataframe tbody tr th:only-of-type {\n",
       "        vertical-align: middle;\n",
       "    }\n",
       "\n",
       "    .dataframe tbody tr th {\n",
       "        vertical-align: top;\n",
       "    }\n",
       "\n",
       "    .dataframe thead th {\n",
       "        text-align: right;\n",
       "    }\n",
       "</style>\n",
       "<table border=\"1\" class=\"dataframe\">\n",
       "  <thead>\n",
       "    <tr style=\"text-align: right;\">\n",
       "      <th></th>\n",
       "      <th>Year</th>\n",
       "      <th>Mileage</th>\n",
       "      <th>Engine</th>\n",
       "      <th>Power</th>\n",
       "      <th>Seats</th>\n",
       "      <th>New_price</th>\n",
       "      <th>kilometers_driven_log</th>\n",
       "      <th>Location_Bangalore</th>\n",
       "      <th>Location_Chennai</th>\n",
       "      <th>Location_Coimbatore</th>\n",
       "      <th>...</th>\n",
       "      <th>Brand_mitsubishi</th>\n",
       "      <th>Brand_nissan</th>\n",
       "      <th>Brand_porsche</th>\n",
       "      <th>Brand_renault</th>\n",
       "      <th>Brand_skoda</th>\n",
       "      <th>Brand_smart</th>\n",
       "      <th>Brand_tata</th>\n",
       "      <th>Brand_toyota</th>\n",
       "      <th>Brand_volkswagen</th>\n",
       "      <th>Brand_volvo</th>\n",
       "    </tr>\n",
       "  </thead>\n",
       "  <tbody>\n",
       "    <tr>\n",
       "      <th>0</th>\n",
       "      <td>2010</td>\n",
       "      <td>26.60</td>\n",
       "      <td>998.0</td>\n",
       "      <td>58.16</td>\n",
       "      <td>5.0</td>\n",
       "      <td>11.57</td>\n",
       "      <td>11.184421</td>\n",
       "      <td>0</td>\n",
       "      <td>0</td>\n",
       "      <td>0</td>\n",
       "      <td>...</td>\n",
       "      <td>0</td>\n",
       "      <td>0</td>\n",
       "      <td>0</td>\n",
       "      <td>0</td>\n",
       "      <td>0</td>\n",
       "      <td>0</td>\n",
       "      <td>0</td>\n",
       "      <td>0</td>\n",
       "      <td>0</td>\n",
       "      <td>0</td>\n",
       "    </tr>\n",
       "    <tr>\n",
       "      <th>1</th>\n",
       "      <td>2015</td>\n",
       "      <td>19.67</td>\n",
       "      <td>1582.0</td>\n",
       "      <td>126.20</td>\n",
       "      <td>5.0</td>\n",
       "      <td>11.57</td>\n",
       "      <td>10.621327</td>\n",
       "      <td>0</td>\n",
       "      <td>0</td>\n",
       "      <td>0</td>\n",
       "      <td>...</td>\n",
       "      <td>0</td>\n",
       "      <td>0</td>\n",
       "      <td>0</td>\n",
       "      <td>0</td>\n",
       "      <td>0</td>\n",
       "      <td>0</td>\n",
       "      <td>0</td>\n",
       "      <td>0</td>\n",
       "      <td>0</td>\n",
       "      <td>0</td>\n",
       "    </tr>\n",
       "    <tr>\n",
       "      <th>2</th>\n",
       "      <td>2011</td>\n",
       "      <td>18.20</td>\n",
       "      <td>1199.0</td>\n",
       "      <td>88.70</td>\n",
       "      <td>5.0</td>\n",
       "      <td>8.61</td>\n",
       "      <td>10.736397</td>\n",
       "      <td>0</td>\n",
       "      <td>1</td>\n",
       "      <td>0</td>\n",
       "      <td>...</td>\n",
       "      <td>0</td>\n",
       "      <td>0</td>\n",
       "      <td>0</td>\n",
       "      <td>0</td>\n",
       "      <td>0</td>\n",
       "      <td>0</td>\n",
       "      <td>0</td>\n",
       "      <td>0</td>\n",
       "      <td>0</td>\n",
       "      <td>0</td>\n",
       "    </tr>\n",
       "    <tr>\n",
       "      <th>3</th>\n",
       "      <td>2012</td>\n",
       "      <td>20.77</td>\n",
       "      <td>1248.0</td>\n",
       "      <td>88.76</td>\n",
       "      <td>7.0</td>\n",
       "      <td>11.57</td>\n",
       "      <td>11.373663</td>\n",
       "      <td>0</td>\n",
       "      <td>1</td>\n",
       "      <td>0</td>\n",
       "      <td>...</td>\n",
       "      <td>0</td>\n",
       "      <td>0</td>\n",
       "      <td>0</td>\n",
       "      <td>0</td>\n",
       "      <td>0</td>\n",
       "      <td>0</td>\n",
       "      <td>0</td>\n",
       "      <td>0</td>\n",
       "      <td>0</td>\n",
       "      <td>0</td>\n",
       "    </tr>\n",
       "    <tr>\n",
       "      <th>4</th>\n",
       "      <td>2013</td>\n",
       "      <td>15.20</td>\n",
       "      <td>1968.0</td>\n",
       "      <td>140.80</td>\n",
       "      <td>5.0</td>\n",
       "      <td>11.57</td>\n",
       "      <td>10.613246</td>\n",
       "      <td>0</td>\n",
       "      <td>0</td>\n",
       "      <td>1</td>\n",
       "      <td>...</td>\n",
       "      <td>0</td>\n",
       "      <td>0</td>\n",
       "      <td>0</td>\n",
       "      <td>0</td>\n",
       "      <td>0</td>\n",
       "      <td>0</td>\n",
       "      <td>0</td>\n",
       "      <td>0</td>\n",
       "      <td>0</td>\n",
       "      <td>0</td>\n",
       "    </tr>\n",
       "  </tbody>\n",
       "</table>\n",
       "<p>5 rows × 54 columns</p>\n",
       "</div>"
      ],
      "text/plain": [
       "   Year  Mileage  Engine   Power  Seats  New_price  kilometers_driven_log  \\\n",
       "0  2010    26.60   998.0   58.16    5.0      11.57              11.184421   \n",
       "1  2015    19.67  1582.0  126.20    5.0      11.57              10.621327   \n",
       "2  2011    18.20  1199.0   88.70    5.0       8.61              10.736397   \n",
       "3  2012    20.77  1248.0   88.76    7.0      11.57              11.373663   \n",
       "4  2013    15.20  1968.0  140.80    5.0      11.57              10.613246   \n",
       "\n",
       "   Location_Bangalore  Location_Chennai  Location_Coimbatore  ...  \\\n",
       "0                   0                 0                    0  ...   \n",
       "1                   0                 0                    0  ...   \n",
       "2                   0                 1                    0  ...   \n",
       "3                   0                 1                    0  ...   \n",
       "4                   0                 0                    1  ...   \n",
       "\n",
       "   Brand_mitsubishi  Brand_nissan  Brand_porsche  Brand_renault  Brand_skoda  \\\n",
       "0                 0             0              0              0            0   \n",
       "1                 0             0              0              0            0   \n",
       "2                 0             0              0              0            0   \n",
       "3                 0             0              0              0            0   \n",
       "4                 0             0              0              0            0   \n",
       "\n",
       "   Brand_smart  Brand_tata  Brand_toyota  Brand_volkswagen  Brand_volvo  \n",
       "0            0           0             0                 0            0  \n",
       "1            0           0             0                 0            0  \n",
       "2            0           0             0                 0            0  \n",
       "3            0           0             0                 0            0  \n",
       "4            0           0             0                 0            0  \n",
       "\n",
       "[5 rows x 54 columns]"
      ]
     },
     "execution_count": 298,
     "metadata": {},
     "output_type": "execute_result"
    }
   ],
   "source": [
    "X.head()"
   ]
  },
  {
   "cell_type": "code",
   "execution_count": 299,
   "metadata": {
    "id": "JqVHLEHVRRKK"
   },
   "outputs": [
    {
     "name": "stdout",
     "output_type": "stream",
     "text": [
      "(4212, 54) (1806, 54)\n"
     ]
    }
   ],
   "source": [
    "# Step-3 Splitting data into training and test set:\n",
    "X_train, X_test, y_train,y_test = train_test_split(X, y, test_size = 0.3, random_state = 1)\n",
    "\n",
    "print(X_train.shape, X_test.shape)"
   ]
  },
  {
   "cell_type": "code",
   "execution_count": 660,
   "metadata": {
    "id": "glAH2vMFtOS8"
   },
   "outputs": [],
   "source": [
    "# Let us write a function for calculating r2_score and RMSE on train and test data\n",
    "# This function takes model as an input on which we have trained particular algorithm\n",
    "# The categorical column as the input and returns the boxplots and histograms for the variable\n",
    "\n",
    "def get_model_score(model, flag = True):\n",
    "    '''\n",
    "    model : regressor to predict values of X\n",
    "\n",
    "    '''\n",
    "    # Defining an empty list to store train and test results\n",
    "    score_list = [] \n",
    "    \n",
    "    pred_train = model.predict(X_train)\n",
    "    \n",
    "    pred_train_ = np.exp(pred_train)\n",
    "    \n",
    "    pred_test = model.predict(X_test)\n",
    "    \n",
    "    pred_test_ = np.exp(pred_test)\n",
    "    \n",
    "    train_r2 = metrics.r2_score(y_train['Price'], pred_train_)\n",
    "    \n",
    "    test_r2 = metrics.r2_score(y_test['Price'], pred_test_)\n",
    "    \n",
    "    train_rmse = metrics.mean_squared_error(y_train['Price'], pred_train_, squared = False)\n",
    "    \n",
    "    test_rmse = metrics.mean_squared_error(y_test['Price'], pred_test_, squared = False)\n",
    "    \n",
    "    # Adding all scores in the list\n",
    "    score_list.extend((train_r2, test_r2, train_rmse, test_rmse))\n",
    "    \n",
    "    # If the flag is set to True then only the following print statements will be dispayed, the default value is True\n",
    "    if flag == True: \n",
    "        \n",
    "        print(\"R-sqaure on training set : \", metrics.r2_score(y_train['Price'], pred_train_))\n",
    "        \n",
    "        print(\"R-square on test set : \", metrics.r2_score(y_test['Price'], pred_test_))\n",
    "        \n",
    "        print(\"RMSE on training set : \", np.sqrt(metrics.mean_squared_error(y_train['Price'], pred_train_)))\n",
    "        \n",
    "        print(\"RMSE on test set : \", np.sqrt(metrics.mean_squared_error(y_test['Price'], pred_test_)))\n",
    "    \n",
    "    # Returning the list with train and test scores\n",
    "    return score_list"
   ]
  },
  {
   "cell_type": "markdown",
   "metadata": {
    "id": "o8qcI692VL3g"
   },
   "source": [
    "<hr>"
   ]
  },
  {
   "cell_type": "markdown",
   "metadata": {
    "id": "gaj2riZFVL3g"
   },
   "source": [
    "For Regression Problems, some of the algorithms used are :<br>\n",
    "\n",
    "**1) Linear Regression** <br>\n",
    "**2) Ridge / Lasso Regression** <br>\n",
    "**3) Decision Trees** <br>\n",
    "**4) Random Forest** <br>\n",
    "**5) XGBOOST Regressor** <br>"
   ]
  },
  {
   "cell_type": "markdown",
   "metadata": {
    "id": "xwL33RaztOS9"
   },
   "source": [
    "### **Fitting a linear model**"
   ]
  },
  {
   "cell_type": "markdown",
   "metadata": {
    "id": "kXj-84YCVL3h"
   },
   "source": [
    "Linear Regression can be implemented using: <br>\n",
    "\n",
    "**1) Sklearn:** https://scikit-learn.org/stable/modules/generated/sklearn.linear_model.LinearRegression.html <br>\n",
    "**2) Statsmodels:** https://www.statsmodels.org/stable/regression.html"
   ]
  },
  {
   "cell_type": "code",
   "execution_count": 261,
   "metadata": {
    "id": "tABeKbbNVL3h"
   },
   "outputs": [],
   "source": [
    "# Import Linear Regression from sklearn\n",
    "from sklearn.linear_model import LinearRegression"
   ]
  },
  {
   "cell_type": "code",
   "execution_count": 277,
   "metadata": {
    "id": "FT3gcKDetOS9"
   },
   "outputs": [],
   "source": [
    "# Create a linear regression model\n",
    "lr = LinearRegression()"
   ]
  },
  {
   "cell_type": "code",
   "execution_count": 300,
   "metadata": {
    "id": "rMmX-FJatOS9"
   },
   "outputs": [
    {
     "data": {
      "text/plain": [
       "LinearRegression()"
      ]
     },
     "execution_count": 300,
     "metadata": {},
     "output_type": "execute_result"
    }
   ],
   "source": [
    "# Fit linear regression model\n",
    "lr.fit(X_train, y_train['Price_log']) "
   ]
  },
  {
   "cell_type": "markdown",
   "metadata": {
    "id": "NgNkZ0HctOS9"
   },
   "source": [
    "**Observations from results: _____**"
   ]
  },
  {
   "cell_type": "code",
   "execution_count": 416,
   "metadata": {},
   "outputs": [
    {
     "name": "stdout",
     "output_type": "stream",
     "text": [
      "R-sqaure on training set :  0.8613777097881481\n",
      "R-square on test set :  0.8608090913675667\n",
      "RMSE on training set :  4.159755484588032\n",
      "RMSE on test set :  4.15800370746179\n"
     ]
    }
   ],
   "source": [
    "# Get score of the model\n",
    "import sklearn.metrics as metrics\n",
    "LR_score = get_model_score(lr)"
   ]
  },
  {
   "cell_type": "markdown",
   "metadata": {},
   "source": [
    "The variability of the model is well explained and the model also performs well on the test data. The model also has a relatively low RMSE which is good."
   ]
  },
  {
   "cell_type": "markdown",
   "metadata": {
    "id": "RNN1nlPqIrdC"
   },
   "source": [
    "**Important variables of Linear Regression**"
   ]
  },
  {
   "cell_type": "markdown",
   "metadata": {
    "id": "NyKxdVyhVL3i"
   },
   "source": [
    "Building a model using statsmodels."
   ]
  },
  {
   "cell_type": "code",
   "execution_count": 302,
   "metadata": {
    "id": "vHyqhuVMIrdC",
    "scrolled": false
   },
   "outputs": [
    {
     "name": "stdout",
     "output_type": "stream",
     "text": [
      "                            OLS Regression Results                            \n",
      "==============================================================================\n",
      "Dep. Variable:              Price_log   R-squared:                       0.922\n",
      "Model:                            OLS   Adj. R-squared:                  0.921\n",
      "Method:                 Least Squares   F-statistic:                     907.0\n",
      "Date:                Tue, 06 Dec 2022   Prob (F-statistic):               0.00\n",
      "Time:                        18:55:34   Log-Likelihood:                -29.109\n",
      "No. Observations:                4212   AIC:                             168.2\n",
      "Df Residuals:                    4157   BIC:                             517.2\n",
      "Df Model:                          54                                         \n",
      "Covariance Type:            nonrobust                                         \n",
      "=============================================================================================\n",
      "                                coef    std err          t      P>|t|      [0.025      0.975]\n",
      "---------------------------------------------------------------------------------------------\n",
      "const                      -241.1566      3.470    -69.494      0.000    -247.960    -234.353\n",
      "Year                          0.1206      0.002     70.530      0.000       0.117       0.124\n",
      "Mileage                      -0.0125      0.001     -8.494      0.000      -0.015      -0.010\n",
      "Engine                        0.0002      2e-05      9.178      0.000       0.000       0.000\n",
      "Power                         0.0047      0.000     21.730      0.000       0.004       0.005\n",
      "Seats                         0.0442      0.007      6.039      0.000       0.030       0.059\n",
      "New_price                    -0.0004      0.000     -0.905      0.366      -0.001       0.000\n",
      "kilometers_driven_log        -0.0613      0.007     -8.635      0.000      -0.075      -0.047\n",
      "Location_Bangalore            0.1698      0.025      6.848      0.000       0.121       0.218\n",
      "Location_Chennai              0.0198      0.024      0.840      0.401      -0.026       0.066\n",
      "Location_Coimbatore           0.1049      0.023      4.657      0.000       0.061       0.149\n",
      "Location_Delhi               -0.0502      0.023     -2.192      0.028      -0.095      -0.005\n",
      "Location_Hyderabad            0.1080      0.022      4.918      0.000       0.065       0.151\n",
      "Location_Jaipur              -0.0665      0.024     -2.755      0.006      -0.114      -0.019\n",
      "Location_Kochi               -0.0282      0.023     -1.250      0.211      -0.073       0.016\n",
      "Location_Kolkata             -0.2359      0.023    -10.199      0.000      -0.281      -0.191\n",
      "Location_Mumbai              -0.0317      0.022     -1.446      0.148      -0.075       0.011\n",
      "Location_Pune                -0.0360      0.023     -1.592      0.112      -0.080       0.008\n",
      "Fuel_Type_Diesel              0.2205      0.041      5.388      0.000       0.140       0.301\n",
      "Fuel_Type_Electric            1.0652      0.250      4.267      0.000       0.576       1.555\n",
      "Fuel_Type_LPG                -0.0754      0.102     -0.740      0.459      -0.275       0.124\n",
      "Fuel_Type_Petrol             -0.0590      0.042     -1.416      0.157      -0.141       0.023\n",
      "Transmission_Manual          -0.1182      0.013     -9.403      0.000      -0.143      -0.094\n",
      "Owner_Type_Fourth & Above     0.0260      0.110      0.235      0.814      -0.191       0.243\n",
      "Owner_Type_Second            -0.0579      0.011     -5.216      0.000      -0.080      -0.036\n",
      "Owner_Type_Third             -0.1291      0.029     -4.503      0.000      -0.185      -0.073\n",
      "Brand_audi                    0.4530      0.249      1.820      0.069      -0.035       0.941\n",
      "Brand_bentley                 0.0816      0.355      0.230      0.818      -0.615       0.778\n",
      "Brand_bmw                     0.4218      0.249      1.694      0.090      -0.066       0.910\n",
      "Brand_chevrolet              -0.4777      0.249     -1.920      0.055      -0.966       0.010\n",
      "Brand_datsun                 -0.6640      0.261     -2.542      0.011      -1.176      -0.152\n",
      "Brand_fiat                   -0.4592      0.254     -1.810      0.070      -0.957       0.038\n",
      "Brand_force                  -0.0262      0.303     -0.086      0.931      -0.619       0.567\n",
      "Brand_ford                   -0.2416      0.248     -0.975      0.330      -0.728       0.244\n",
      "Brand_honda                  -0.1084      0.248     -0.437      0.662      -0.595       0.378\n",
      "Brand_hyundai                -0.1771      0.248     -0.715      0.475      -0.663       0.309\n",
      "Brand_isuzu                  -0.3844      0.286     -1.346      0.178      -0.944       0.175\n",
      "Brand_jaguar                  0.4363      0.253      1.725      0.085      -0.060       0.932\n",
      "Brand_jeep                    0.0460      0.259      0.178      0.859      -0.462       0.554\n",
      "Brand_lamborghini             0.5219      0.355      1.470      0.142      -0.174       1.218\n",
      "Brand_land                    0.7244      0.251      2.884      0.004       0.232       1.217\n",
      "Brand_mahindra               -0.3137      0.248     -1.263      0.207      -0.801       0.173\n",
      "Brand_maruti                 -0.1814      0.248     -0.732      0.464      -0.667       0.304\n",
      "Brand_mercedes-benz           0.4706      0.249      1.893      0.058      -0.017       0.958\n",
      "Brand_mini                    0.8969      0.255      3.516      0.000       0.397       1.397\n",
      "Brand_mitsubishi              0.1180      0.254      0.465      0.642      -0.380       0.616\n",
      "Brand_nissan                 -0.2070      0.249     -0.830      0.406      -0.696       0.282\n",
      "Brand_porsche                 0.2008      0.259      0.775      0.438      -0.307       0.708\n",
      "Brand_renault                -0.2397      0.249     -0.963      0.335      -0.727       0.248\n",
      "Brand_skoda                  -0.0859      0.249     -0.346      0.730      -0.573       0.401\n",
      "Brand_smart                  -0.0974      0.351     -0.277      0.781      -0.785       0.591\n",
      "Brand_tata                   -0.6989      0.248     -2.814      0.005      -1.186      -0.212\n",
      "Brand_toyota                  0.0385      0.248      0.155      0.877      -0.448       0.525\n",
      "Brand_volkswagen             -0.1878      0.248     -0.757      0.449      -0.674       0.298\n",
      "Brand_volvo                   0.2535      0.256      0.992      0.321      -0.248       0.755\n",
      "==============================================================================\n",
      "Omnibus:                     1168.658   Durbin-Watson:                   2.010\n",
      "Prob(Omnibus):                  0.000   Jarque-Bera (JB):            25380.543\n",
      "Skew:                          -0.797   Prob(JB):                         0.00\n",
      "Kurtosis:                      14.920   Cond. No.                     2.40e+06\n",
      "==============================================================================\n",
      "\n",
      "Notes:\n",
      "[1] Standard Errors assume that the covariance matrix of the errors is correctly specified.\n",
      "[2] The condition number is large, 2.4e+06. This might indicate that there are\n",
      "strong multicollinearity or other numerical problems.\n"
     ]
    }
   ],
   "source": [
    "# Import Statsmodels \n",
    "import statsmodels.api as sm\n",
    "\n",
    "# Statsmodel api does not add a constant by default. We need to add it explicitly\n",
    "x_train = sm.add_constant(X_train)\n",
    "\n",
    "# Add constant to test data\n",
    "x_test = sm.add_constant(X_test)\n",
    "\n",
    "def build_ols_model(train):\n",
    "    \n",
    "    # Create the model\n",
    "    olsmodel = sm.OLS(y_train[\"Price_log\"], train)\n",
    "    \n",
    "    return olsmodel.fit()\n",
    "\n",
    "\n",
    "# Fit linear model on new dataset\n",
    "olsmodel1 = build_ols_model(x_train)\n",
    "\n",
    "print(olsmodel1.summary())"
   ]
  },
  {
   "cell_type": "markdown",
   "metadata": {},
   "source": [
    "## There is need to check which variables to keep and which to get rid off in other to remove multicollinearity so I'll check the VIF(Variance Inflator Factor) value for every column"
   ]
  },
  {
   "cell_type": "code",
   "execution_count": 315,
   "metadata": {},
   "outputs": [
    {
     "name": "stdout",
     "output_type": "stream",
     "text": [
      "VIF Scores: \n",
      "\n",
      "const                        843237.305462\n",
      "Year                              2.212090\n",
      "Mileage                           3.151872\n",
      "Engine                           10.255012\n",
      "Power                             9.507240\n",
      "Seats                             2.414726\n",
      "New_price                         1.234024\n",
      "kilometers_driven_log             1.786289\n",
      "Location_Bangalore                2.366791\n",
      "Location_Chennai                  2.816680\n",
      "Location_Coimbatore               3.446043\n",
      "Location_Delhi                    3.024497\n",
      "Location_Hyderabad                3.700685\n",
      "Location_Jaipur                   2.576494\n",
      "Location_Kochi                    3.429236\n",
      "Location_Kolkata                  3.030132\n",
      "Location_Mumbai                   3.904413\n",
      "Location_Pune                     3.263835\n",
      "Fuel_Type_Diesel                 29.219615\n",
      "Fuel_Type_Electric                1.035794\n",
      "Fuel_Type_LPG                     1.204179\n",
      "Fuel_Type_Petrol                 30.217426\n",
      "Transmission_Manual               2.234382\n",
      "Owner_Type_Fourth & Above         1.013299\n",
      "Owner_Type_Second                 1.183042\n",
      "Owner_Type_Third                  1.150667\n",
      "Brand_audi                      159.468619\n",
      "Brand_bentley                     2.099982\n",
      "Brand_bmw                       185.959264\n",
      "Brand_chevrolet                  86.704484\n",
      "Brand_datsun                     10.186788\n",
      "Brand_fiat                       20.247241\n",
      "Brand_force                       3.041858\n",
      "Brand_ford                      205.678455\n",
      "Brand_honda                     385.837170\n",
      "Brand_hyundai                   653.083757\n",
      "Brand_isuzu                       4.064305\n",
      "Brand_jaguar                     30.643472\n",
      "Brand_jeep                       12.228386\n",
      "Brand_lamborghini                 2.096190\n",
      "Brand_land                       38.469972\n",
      "Brand_mahindra                  182.254169\n",
      "Brand_maruti                    688.973424\n",
      "Brand_mercedes-benz             209.666377\n",
      "Brand_mini                       18.313453\n",
      "Brand_mitsubishi                 18.164909\n",
      "Brand_nissan                     68.130161\n",
      "Brand_porsche                    14.449709\n",
      "Brand_renault                   104.371517\n",
      "Brand_skoda                     128.448993\n",
      "Brand_smart                       2.047474\n",
      "Brand_tata                      133.987577\n",
      "Brand_toyota                    266.461585\n",
      "Brand_volkswagen                215.083930\n",
      "Brand_volvo                      17.327708\n",
      "dtype: float64\n",
      "\n"
     ]
    }
   ],
   "source": [
    "from statsmodels.stats.outliers_influence import variance_inflation_factor\n",
    "\n",
    "vif_series = pd.Series(\n",
    "    [variance_inflation_factor(x_train.values, i) for i in range(x_train.shape[1])],\n",
    "    index=x_train.columns,\n",
    "    dtype=float,\n",
    ")\n",
    "print(\"VIF Scores: \\n\\n{}\\n\".format(vif_series))"
   ]
  },
  {
   "cell_type": "code",
   "execution_count": 323,
   "metadata": {},
   "outputs": [
    {
     "name": "stdout",
     "output_type": "stream",
     "text": [
      "VIF Scores: \n",
      "\n",
      "const                        841074.322378\n",
      "Year                              2.211233\n",
      "Mileage                           3.147667\n",
      "Engine                           10.247554\n",
      "Power                             9.488715\n",
      "Seats                             2.413078\n",
      "New_price                         1.233679\n",
      "kilometers_driven_log             1.785218\n",
      "Location_Bangalore                2.366783\n",
      "Location_Chennai                  2.815105\n",
      "Location_Coimbatore               3.445927\n",
      "Location_Delhi                    3.024470\n",
      "Location_Hyderabad                3.700663\n",
      "Location_Jaipur                   2.576384\n",
      "Location_Kochi                    3.429128\n",
      "Location_Kolkata                  3.030131\n",
      "Location_Mumbai                   3.904412\n",
      "Location_Pune                     3.263764\n",
      "Fuel_Type_Diesel                 29.217789\n",
      "Fuel_Type_Electric                1.035793\n",
      "Fuel_Type_LPG                     1.204173\n",
      "Fuel_Type_Petrol                 30.216808\n",
      "Transmission_Manual               2.234353\n",
      "Owner_Type_Fourth & Above         1.013280\n",
      "Owner_Type_Second                 1.183011\n",
      "Owner_Type_Third                  1.140625\n",
      "Brand_audi                        1.941389\n",
      "Brand_bentley                     1.073111\n",
      "Brand_bmw                         2.231841\n",
      "Brand_chevrolet                   1.109538\n",
      "Brand_datsun                      1.020122\n",
      "Brand_fiat                        1.037596\n",
      "Brand_force                       1.011156\n",
      "Brand_ford                        1.333359\n",
      "Brand_honda                       1.539965\n",
      "Brand_hyundai                     1.758413\n",
      "Brand_isuzu                       1.028248\n",
      "Brand_jaguar                      1.297159\n",
      "Brand_jeep                        1.065127\n",
      "Brand_lamborghini                 1.093758\n",
      "Brand_land                        1.292473\n",
      "Brand_mahindra                    1.790875\n",
      "Brand_mercedes-benz               2.267099\n",
      "Brand_mini                        1.093390\n",
      "Brand_mitsubishi                  1.102775\n",
      "Brand_nissan                      1.098176\n",
      "Brand_porsche                     1.247357\n",
      "Brand_renault                     1.134121\n",
      "Brand_skoda                       1.308063\n",
      "Brand_smart                       1.041945\n",
      "Brand_tata                        1.170023\n",
      "Brand_toyota                      2.061017\n",
      "Brand_volkswagen                  1.325833\n",
      "Brand_volvo                       1.102888\n",
      "dtype: float64\n",
      "\n"
     ]
    }
   ],
   "source": [
    "train_features_new = x_train.drop(\"Brand_maruti\", axis=1)\n",
    "\n",
    "vif_series = pd.Series(\n",
    "    [variance_inflation_factor(train_features_new.values, i) for i in range(train_features_new.shape[1])],\n",
    "    index=train_features_new.columns,\n",
    "    dtype=float,\n",
    ")\n",
    "print(\"VIF Scores: \\n\\n{}\\n\".format(vif_series))\n"
   ]
  },
  {
   "cell_type": "code",
   "execution_count": 327,
   "metadata": {},
   "outputs": [
    {
     "name": "stdout",
     "output_type": "stream",
     "text": [
      "VIF Scores: \n",
      "\n",
      "const                        837843.800480\n",
      "Year                              2.203591\n",
      "Mileage                           2.752590\n",
      "Power                             3.851377\n",
      "Seats                             2.250476\n",
      "New_price                         1.215466\n",
      "kilometers_driven_log             1.777120\n",
      "Location_Bangalore                2.366611\n",
      "Location_Chennai                  2.814510\n",
      "Location_Coimbatore               3.443608\n",
      "Location_Delhi                    3.024308\n",
      "Location_Hyderabad                3.697811\n",
      "Location_Jaipur                   2.573688\n",
      "Location_Kochi                    3.428489\n",
      "Location_Kolkata                  3.028274\n",
      "Location_Mumbai                   3.902945\n",
      "Location_Pune                     3.262991\n",
      "Fuel_Type_Diesel                  2.065280\n",
      "Fuel_Type_Electric                1.009773\n",
      "Fuel_Type_LPG                     1.011550\n",
      "Transmission_Manual               2.234009\n",
      "Owner_Type_Fourth & Above         1.013159\n",
      "Owner_Type_Second                 1.182787\n",
      "Owner_Type_Third                  1.140387\n",
      "Brand_audi                        1.935264\n",
      "Brand_bentley                     1.069269\n",
      "Brand_bmw                         2.223805\n",
      "Brand_chevrolet                   1.108513\n",
      "Brand_datsun                      1.019533\n",
      "Brand_fiat                        1.036211\n",
      "Brand_force                       1.011022\n",
      "Brand_ford                        1.307602\n",
      "Brand_honda                       1.520161\n",
      "Brand_hyundai                     1.751423\n",
      "Brand_isuzu                       1.021191\n",
      "Brand_jaguar                      1.296062\n",
      "Brand_jeep                        1.063174\n",
      "Brand_lamborghini                 1.093678\n",
      "Brand_land                        1.289258\n",
      "Brand_mahindra                    1.755516\n",
      "Brand_mercedes-benz               2.260155\n",
      "Brand_mini                        1.092840\n",
      "Brand_mitsubishi                  1.073756\n",
      "Brand_nissan                      1.093113\n",
      "Brand_porsche                     1.240568\n",
      "Brand_renault                     1.132744\n",
      "Brand_skoda                       1.298999\n",
      "Brand_smart                       1.036768\n",
      "Brand_tata                        1.164489\n",
      "Brand_toyota                      1.825766\n",
      "Brand_volkswagen                  1.321555\n",
      "Brand_volvo                       1.099294\n",
      "dtype: float64\n",
      "\n"
     ]
    }
   ],
   "source": [
    "train_features_new3 = train_features_new2.drop(\"Engine\", axis=1)\n",
    "\n",
    "vif_series = pd.Series(\n",
    "    [variance_inflation_factor(train_features_new3.values, i) for i in range(train_features_new3.shape[1])],\n",
    "    index=train_features_new3.columns,\n",
    "    dtype=float,\n",
    ")\n",
    "print(\"VIF Scores: \\n\\n{}\\n\".format(vif_series))"
   ]
  },
  {
   "cell_type": "markdown",
   "metadata": {},
   "source": [
    "- Firstly I removed the Brand_Maruti because it had a VIF of 688.97\n",
    "- secondly I removed Fuel_Type_Petrol as it had a VIF of 30.2\n",
    "- thirdly I removed Engine and now everything looks good as there is no VIF above or equal to 5."
   ]
  },
  {
   "cell_type": "code",
   "execution_count": 328,
   "metadata": {},
   "outputs": [
    {
     "data": {
      "text/plain": [
       "<AxesSubplot:xlabel='Price_log', ylabel='Count'>"
      ]
     },
     "execution_count": 328,
     "metadata": {},
     "output_type": "execute_result"
    },
    {
     "data": {
      "image/png": "[encoded data removed]",
      "text/plain": [
       "<Figure size 432x288 with 1 Axes>"
      ]
     },
     "metadata": {
      "needs_background": "light"
     },
     "output_type": "display_data"
    }
   ],
   "source": [
    "sns.histplot(data=y_train[\"Price_log\"])"
   ]
  },
  {
   "cell_type": "markdown",
   "metadata": {},
   "source": [
    "- The target variable is normally distributed."
   ]
  },
  {
   "cell_type": "code",
   "execution_count": null,
   "metadata": {},
   "outputs": [],
   "source": [
    "train_features_new3= train_features_new3.drop('Brand_bentley', axis=1)"
   ]
  },
  {
   "cell_type": "code",
   "execution_count": 408,
   "metadata": {},
   "outputs": [],
   "source": [
    "olsmodel_2= sm.OLS(y_train[\"Price_log\"],train_features_new3)\n",
    "ols_res_2= olsmodel_2.fit()"
   ]
  },
  {
   "cell_type": "code",
   "execution_count": 409,
   "metadata": {
    "scrolled": false
   },
   "outputs": [
    {
     "data": {
      "text/html": [
       "<table class=\"simpletable\">\n",
       "<caption>OLS Regression Results</caption>\n",
       "<tr>\n",
       "  <th>Dep. Variable:</th>        <td>Price_log</td>    <th>  R-squared:         </th> <td>   0.920</td>\n",
       "</tr>\n",
       "<tr>\n",
       "  <th>Model:</th>                   <td>OLS</td>       <th>  Adj. R-squared:    </th> <td>   0.919</td>\n",
       "</tr>\n",
       "<tr>\n",
       "  <th>Method:</th>             <td>Least Squares</td>  <th>  F-statistic:       </th> <td>   1169.</td>\n",
       "</tr>\n",
       "<tr>\n",
       "  <th>Date:</th>             <td>Tue, 06 Dec 2022</td> <th>  Prob (F-statistic):</th>  <td>  0.00</td> \n",
       "</tr>\n",
       "<tr>\n",
       "  <th>Time:</th>                 <td>23:01:28</td>     <th>  Log-Likelihood:    </th> <td> -77.216</td>\n",
       "</tr>\n",
       "<tr>\n",
       "  <th>No. Observations:</th>      <td>  4212</td>      <th>  AIC:               </th> <td>   238.4</td>\n",
       "</tr>\n",
       "<tr>\n",
       "  <th>Df Residuals:</th>          <td>  4170</td>      <th>  BIC:               </th> <td>   505.0</td>\n",
       "</tr>\n",
       "<tr>\n",
       "  <th>Df Model:</th>              <td>    41</td>      <th>                     </th>     <td> </td>   \n",
       "</tr>\n",
       "<tr>\n",
       "  <th>Covariance Type:</th>      <td>nonrobust</td>    <th>                     </th>     <td> </td>   \n",
       "</tr>\n",
       "</table>\n",
       "<table class=\"simpletable\">\n",
       "<tr>\n",
       "            <td></td>               <th>coef</th>     <th>std err</th>      <th>t</th>      <th>P>|t|</th>  <th>[0.025</th>    <th>0.975]</th>  \n",
       "</tr>\n",
       "<tr>\n",
       "  <th>const</th>                 <td> -238.8419</td> <td>    3.461</td> <td>  -69.004</td> <td> 0.000</td> <td> -245.628</td> <td> -232.056</td>\n",
       "</tr>\n",
       "<tr>\n",
       "  <th>Year</th>                  <td>    0.1194</td> <td>    0.002</td> <td>   69.940</td> <td> 0.000</td> <td>    0.116</td> <td>    0.123</td>\n",
       "</tr>\n",
       "<tr>\n",
       "  <th>Mileage</th>               <td>   -0.0155</td> <td>    0.001</td> <td>  -11.829</td> <td> 0.000</td> <td>   -0.018</td> <td>   -0.013</td>\n",
       "</tr>\n",
       "<tr>\n",
       "  <th>Power</th>                 <td>    0.0063</td> <td>    0.000</td> <td>   46.768</td> <td> 0.000</td> <td>    0.006</td> <td>    0.007</td>\n",
       "</tr>\n",
       "<tr>\n",
       "  <th>Seats</th>                 <td>    0.0623</td> <td>    0.007</td> <td>    9.002</td> <td> 0.000</td> <td>    0.049</td> <td>    0.076</td>\n",
       "</tr>\n",
       "<tr>\n",
       "  <th>New_price</th>             <td>   -0.0009</td> <td>    0.000</td> <td>   -2.140</td> <td> 0.032</td> <td>   -0.002</td> <td>-7.32e-05</td>\n",
       "</tr>\n",
       "<tr>\n",
       "  <th>kilometers_driven_log</th> <td>   -0.0606</td> <td>    0.007</td> <td>   -8.500</td> <td> 0.000</td> <td>   -0.075</td> <td>   -0.047</td>\n",
       "</tr>\n",
       "<tr>\n",
       "  <th>Location_Bangalore</th>    <td>    0.1561</td> <td>    0.020</td> <td>    8.003</td> <td> 0.000</td> <td>    0.118</td> <td>    0.194</td>\n",
       "</tr>\n",
       "<tr>\n",
       "  <th>Location_Coimbatore</th>   <td>    0.0932</td> <td>    0.017</td> <td>    5.599</td> <td> 0.000</td> <td>    0.061</td> <td>    0.126</td>\n",
       "</tr>\n",
       "<tr>\n",
       "  <th>Location_Delhi</th>        <td>   -0.0643</td> <td>    0.017</td> <td>   -3.762</td> <td> 0.000</td> <td>   -0.098</td> <td>   -0.031</td>\n",
       "</tr>\n",
       "<tr>\n",
       "  <th>Location_Hyderabad</th>    <td>    0.0988</td> <td>    0.016</td> <td>    6.307</td> <td> 0.000</td> <td>    0.068</td> <td>    0.130</td>\n",
       "</tr>\n",
       "<tr>\n",
       "  <th>Location_Jaipur</th>       <td>   -0.0795</td> <td>    0.019</td> <td>   -4.295</td> <td> 0.000</td> <td>   -0.116</td> <td>   -0.043</td>\n",
       "</tr>\n",
       "<tr>\n",
       "  <th>Location_Kochi</th>        <td>   -0.0395</td> <td>    0.017</td> <td>   -2.361</td> <td> 0.018</td> <td>   -0.072</td> <td>   -0.007</td>\n",
       "</tr>\n",
       "<tr>\n",
       "  <th>Location_Kolkata</th>      <td>   -0.2481</td> <td>    0.017</td> <td>  -14.242</td> <td> 0.000</td> <td>   -0.282</td> <td>   -0.214</td>\n",
       "</tr>\n",
       "<tr>\n",
       "  <th>Location_Mumbai</th>       <td>   -0.0474</td> <td>    0.016</td> <td>   -3.012</td> <td> 0.003</td> <td>   -0.078</td> <td>   -0.017</td>\n",
       "</tr>\n",
       "<tr>\n",
       "  <th>Location_Pune</th>         <td>   -0.0478</td> <td>    0.016</td> <td>   -2.903</td> <td> 0.004</td> <td>   -0.080</td> <td>   -0.016</td>\n",
       "</tr>\n",
       "<tr>\n",
       "  <th>Fuel_Type_Diesel</th>      <td>    0.3131</td> <td>    0.011</td> <td>   29.220</td> <td> 0.000</td> <td>    0.292</td> <td>    0.334</td>\n",
       "</tr>\n",
       "<tr>\n",
       "  <th>Fuel_Type_Electric</th>    <td>    1.1832</td> <td>    0.249</td> <td>    4.754</td> <td> 0.000</td> <td>    0.695</td> <td>    1.671</td>\n",
       "</tr>\n",
       "<tr>\n",
       "  <th>Transmission_Manual</th>   <td>   -0.1166</td> <td>    0.013</td> <td>   -9.201</td> <td> 0.000</td> <td>   -0.141</td> <td>   -0.092</td>\n",
       "</tr>\n",
       "<tr>\n",
       "  <th>Owner_Type_Second</th>     <td>   -0.0569</td> <td>    0.011</td> <td>   -5.088</td> <td> 0.000</td> <td>   -0.079</td> <td>   -0.035</td>\n",
       "</tr>\n",
       "<tr>\n",
       "  <th>Owner_Type_Third</th>      <td>   -0.1265</td> <td>    0.029</td> <td>   -4.408</td> <td> 0.000</td> <td>   -0.183</td> <td>   -0.070</td>\n",
       "</tr>\n",
       "<tr>\n",
       "  <th>Brand_audi</th>            <td>    0.6185</td> <td>    0.026</td> <td>   24.247</td> <td> 0.000</td> <td>    0.569</td> <td>    0.669</td>\n",
       "</tr>\n",
       "<tr>\n",
       "  <th>Brand_bmw</th>             <td>    0.5830</td> <td>    0.025</td> <td>   23.005</td> <td> 0.000</td> <td>    0.533</td> <td>    0.633</td>\n",
       "</tr>\n",
       "<tr>\n",
       "  <th>Brand_chevrolet</th>       <td>   -0.2983</td> <td>    0.028</td> <td>  -10.843</td> <td> 0.000</td> <td>   -0.352</td> <td>   -0.244</td>\n",
       "</tr>\n",
       "<tr>\n",
       "  <th>Brand_datsun</th>          <td>   -0.4879</td> <td>    0.083</td> <td>   -5.860</td> <td> 0.000</td> <td>   -0.651</td> <td>   -0.325</td>\n",
       "</tr>\n",
       "<tr>\n",
       "  <th>Brand_fiat</th>            <td>   -0.2971</td> <td>    0.057</td> <td>   -5.177</td> <td> 0.000</td> <td>   -0.410</td> <td>   -0.185</td>\n",
       "</tr>\n",
       "<tr>\n",
       "  <th>Brand_ford</th>            <td>   -0.0350</td> <td>    0.018</td> <td>   -1.907</td> <td> 0.057</td> <td>   -0.071</td> <td>    0.001</td>\n",
       "</tr>\n",
       "<tr>\n",
       "  <th>Brand_honda</th>           <td>    0.0795</td> <td>    0.014</td> <td>    5.741</td> <td> 0.000</td> <td>    0.052</td> <td>    0.107</td>\n",
       "</tr>\n",
       "<tr>\n",
       "  <th>Brand_jaguar</th>          <td>    0.6008</td> <td>    0.051</td> <td>   11.776</td> <td> 0.000</td> <td>    0.501</td> <td>    0.701</td>\n",
       "</tr>\n",
       "<tr>\n",
       "  <th>Brand_jeep</th>            <td>    0.2005</td> <td>    0.076</td> <td>    2.626</td> <td> 0.009</td> <td>    0.051</td> <td>    0.350</td>\n",
       "</tr>\n",
       "<tr>\n",
       "  <th>Brand_lamborghini</th>     <td>    0.6977</td> <td>    0.258</td> <td>    2.706</td> <td> 0.007</td> <td>    0.192</td> <td>    1.203</td>\n",
       "</tr>\n",
       "<tr>\n",
       "  <th>Brand_land</th>            <td>    0.9127</td> <td>    0.045</td> <td>   20.428</td> <td> 0.000</td> <td>    0.825</td> <td>    1.000</td>\n",
       "</tr>\n",
       "<tr>\n",
       "  <th>Brand_mahindra</th>        <td>   -0.1007</td> <td>    0.023</td> <td>   -4.312</td> <td> 0.000</td> <td>   -0.147</td> <td>   -0.055</td>\n",
       "</tr>\n",
       "<tr>\n",
       "  <th>Brand_mercedes-benz</th>   <td>    0.6609</td> <td>    0.023</td> <td>   28.165</td> <td> 0.000</td> <td>    0.615</td> <td>    0.707</td>\n",
       "</tr>\n",
       "<tr>\n",
       "  <th>Brand_mini</th>            <td>    1.0894</td> <td>    0.062</td> <td>   17.520</td> <td> 0.000</td> <td>    0.967</td> <td>    1.211</td>\n",
       "</tr>\n",
       "<tr>\n",
       "  <th>Brand_mitsubishi</th>      <td>    0.3938</td> <td>    0.062</td> <td>    6.388</td> <td> 0.000</td> <td>    0.273</td> <td>    0.515</td>\n",
       "</tr>\n",
       "<tr>\n",
       "  <th>Brand_porsche</th>         <td>    0.4233</td> <td>    0.075</td> <td>    5.633</td> <td> 0.000</td> <td>    0.276</td> <td>    0.571</td>\n",
       "</tr>\n",
       "<tr>\n",
       "  <th>Brand_renault</th>         <td>   -0.0583</td> <td>    0.025</td> <td>   -2.313</td> <td> 0.021</td> <td>   -0.108</td> <td>   -0.009</td>\n",
       "</tr>\n",
       "<tr>\n",
       "  <th>Brand_skoda</th>           <td>    0.1117</td> <td>    0.024</td> <td>    4.713</td> <td> 0.000</td> <td>    0.065</td> <td>    0.158</td>\n",
       "</tr>\n",
       "<tr>\n",
       "  <th>Brand_tata</th>            <td>   -0.5024</td> <td>    0.022</td> <td>  -22.538</td> <td> 0.000</td> <td>   -0.546</td> <td>   -0.459</td>\n",
       "</tr>\n",
       "<tr>\n",
       "  <th>Brand_toyota</th>          <td>    0.2870</td> <td>    0.019</td> <td>   15.058</td> <td> 0.000</td> <td>    0.250</td> <td>    0.324</td>\n",
       "</tr>\n",
       "<tr>\n",
       "  <th>Brand_volvo</th>           <td>    0.3983</td> <td>    0.064</td> <td>    6.216</td> <td> 0.000</td> <td>    0.273</td> <td>    0.524</td>\n",
       "</tr>\n",
       "</table>\n",
       "<table class=\"simpletable\">\n",
       "<tr>\n",
       "  <th>Omnibus:</th>       <td>1165.276</td> <th>  Durbin-Watson:     </th> <td>   2.006</td> \n",
       "</tr>\n",
       "<tr>\n",
       "  <th>Prob(Omnibus):</th>  <td> 0.000</td>  <th>  Jarque-Bera (JB):  </th> <td>28214.978</td>\n",
       "</tr>\n",
       "<tr>\n",
       "  <th>Skew:</th>           <td>-0.759</td>  <th>  Prob(JB):          </th> <td>    0.00</td> \n",
       "</tr>\n",
       "<tr>\n",
       "  <th>Kurtosis:</th>       <td>15.588</td>  <th>  Cond. No.          </th> <td>1.83e+06</td> \n",
       "</tr>\n",
       "</table><br/><br/>Notes:<br/>[1] Standard Errors assume that the covariance matrix of the errors is correctly specified.<br/>[2] The condition number is large, 1.83e+06. This might indicate that there are<br/>strong multicollinearity or other numerical problems."
      ],
      "text/plain": [
       "<class 'statsmodels.iolib.summary.Summary'>\n",
       "\"\"\"\n",
       "                            OLS Regression Results                            \n",
       "==============================================================================\n",
       "Dep. Variable:              Price_log   R-squared:                       0.920\n",
       "Model:                            OLS   Adj. R-squared:                  0.919\n",
       "Method:                 Least Squares   F-statistic:                     1169.\n",
       "Date:                Tue, 06 Dec 2022   Prob (F-statistic):               0.00\n",
       "Time:                        23:01:28   Log-Likelihood:                -77.216\n",
       "No. Observations:                4212   AIC:                             238.4\n",
       "Df Residuals:                    4170   BIC:                             505.0\n",
       "Df Model:                          41                                         \n",
       "Covariance Type:            nonrobust                                         \n",
       "=========================================================================================\n",
       "                            coef    std err          t      P>|t|      [0.025      0.975]\n",
       "-----------------------------------------------------------------------------------------\n",
       "const                  -238.8419      3.461    -69.004      0.000    -245.628    -232.056\n",
       "Year                      0.1194      0.002     69.940      0.000       0.116       0.123\n",
       "Mileage                  -0.0155      0.001    -11.829      0.000      -0.018      -0.013\n",
       "Power                     0.0063      0.000     46.768      0.000       0.006       0.007\n",
       "Seats                     0.0623      0.007      9.002      0.000       0.049       0.076\n",
       "New_price                -0.0009      0.000     -2.140      0.032      -0.002   -7.32e-05\n",
       "kilometers_driven_log    -0.0606      0.007     -8.500      0.000      -0.075      -0.047\n",
       "Location_Bangalore        0.1561      0.020      8.003      0.000       0.118       0.194\n",
       "Location_Coimbatore       0.0932      0.017      5.599      0.000       0.061       0.126\n",
       "Location_Delhi           -0.0643      0.017     -3.762      0.000      -0.098      -0.031\n",
       "Location_Hyderabad        0.0988      0.016      6.307      0.000       0.068       0.130\n",
       "Location_Jaipur          -0.0795      0.019     -4.295      0.000      -0.116      -0.043\n",
       "Location_Kochi           -0.0395      0.017     -2.361      0.018      -0.072      -0.007\n",
       "Location_Kolkata         -0.2481      0.017    -14.242      0.000      -0.282      -0.214\n",
       "Location_Mumbai          -0.0474      0.016     -3.012      0.003      -0.078      -0.017\n",
       "Location_Pune            -0.0478      0.016     -2.903      0.004      -0.080      -0.016\n",
       "Fuel_Type_Diesel          0.3131      0.011     29.220      0.000       0.292       0.334\n",
       "Fuel_Type_Electric        1.1832      0.249      4.754      0.000       0.695       1.671\n",
       "Transmission_Manual      -0.1166      0.013     -9.201      0.000      -0.141      -0.092\n",
       "Owner_Type_Second        -0.0569      0.011     -5.088      0.000      -0.079      -0.035\n",
       "Owner_Type_Third         -0.1265      0.029     -4.408      0.000      -0.183      -0.070\n",
       "Brand_audi                0.6185      0.026     24.247      0.000       0.569       0.669\n",
       "Brand_bmw                 0.5830      0.025     23.005      0.000       0.533       0.633\n",
       "Brand_chevrolet          -0.2983      0.028    -10.843      0.000      -0.352      -0.244\n",
       "Brand_datsun             -0.4879      0.083     -5.860      0.000      -0.651      -0.325\n",
       "Brand_fiat               -0.2971      0.057     -5.177      0.000      -0.410      -0.185\n",
       "Brand_ford               -0.0350      0.018     -1.907      0.057      -0.071       0.001\n",
       "Brand_honda               0.0795      0.014      5.741      0.000       0.052       0.107\n",
       "Brand_jaguar              0.6008      0.051     11.776      0.000       0.501       0.701\n",
       "Brand_jeep                0.2005      0.076      2.626      0.009       0.051       0.350\n",
       "Brand_lamborghini         0.6977      0.258      2.706      0.007       0.192       1.203\n",
       "Brand_land                0.9127      0.045     20.428      0.000       0.825       1.000\n",
       "Brand_mahindra           -0.1007      0.023     -4.312      0.000      -0.147      -0.055\n",
       "Brand_mercedes-benz       0.6609      0.023     28.165      0.000       0.615       0.707\n",
       "Brand_mini                1.0894      0.062     17.520      0.000       0.967       1.211\n",
       "Brand_mitsubishi          0.3938      0.062      6.388      0.000       0.273       0.515\n",
       "Brand_porsche             0.4233      0.075      5.633      0.000       0.276       0.571\n",
       "Brand_renault            -0.0583      0.025     -2.313      0.021      -0.108      -0.009\n",
       "Brand_skoda               0.1117      0.024      4.713      0.000       0.065       0.158\n",
       "Brand_tata               -0.5024      0.022    -22.538      0.000      -0.546      -0.459\n",
       "Brand_toyota              0.2870      0.019     15.058      0.000       0.250       0.324\n",
       "Brand_volvo               0.3983      0.064      6.216      0.000       0.273       0.524\n",
       "==============================================================================\n",
       "Omnibus:                     1165.276   Durbin-Watson:                   2.006\n",
       "Prob(Omnibus):                  0.000   Jarque-Bera (JB):            28214.978\n",
       "Skew:                          -0.759   Prob(JB):                         0.00\n",
       "Kurtosis:                      15.588   Cond. No.                     1.83e+06\n",
       "==============================================================================\n",
       "\n",
       "Notes:\n",
       "[1] Standard Errors assume that the covariance matrix of the errors is correctly specified.\n",
       "[2] The condition number is large, 1.83e+06. This might indicate that there are\n",
       "strong multicollinearity or other numerical problems.\n",
       "\"\"\""
      ]
     },
     "execution_count": 409,
     "metadata": {},
     "output_type": "execute_result"
    }
   ],
   "source": [
    "olsmodel_2 = build_ols_model(x_train)\n",
    "ols_res_2.summary()\n"
   ]
  },
  {
   "cell_type": "code",
   "execution_count": 418,
   "metadata": {},
   "outputs": [
    {
     "name": "stdout",
     "output_type": "stream",
     "text": [
      "0.919954875265152\n"
     ]
    }
   ],
   "source": [
    "print(ols_res_2.rsquared)"
   ]
  },
  {
   "cell_type": "markdown",
   "metadata": {},
   "source": [
    "- the p value indicates whether that particular column and the target variable have a linear relationship or not(wards test of linearity \n",
    "- if it is less than 0.05 then it has a relationship\n",
    "- Brand_volkswagen was removed\n",
    "-  'Brand_hyundai',Fuel_Type_LPG,Brand_smart,Owner_Type_FourthAbove,Brand_isuzu,Location_Chennai,Brand_force,Brand_bentley  was also removed\n",
    "\n",
    "- removing all these columns had no impact on the r sqaured and adjusted r squared which shows they are insignificant.\n",
    "\n",
    "- The R-squared value for the OLS Linear Regression model is ~0.91, which indicates that the model is able to explain about 90% variance in the target variable."
   ]
  },
  {
   "cell_type": "code",
   "execution_count": 412,
   "metadata": {},
   "outputs": [],
   "source": [
    "# Retrive Coeff values, p-values and store them in the dataframe\n",
    "olsmod = pd.DataFrame(ols_res_2.params, columns = ['coef'])\n",
    "\n",
    "olsmod['pval'] = ols_res_2.pvalues"
   ]
  },
  {
   "cell_type": "code",
   "execution_count": 413,
   "metadata": {},
   "outputs": [
    {
     "data": {
      "text/html": [
       "<div>\n",
       "<style scoped>\n",
       "    .dataframe tbody tr th:only-of-type {\n",
       "        vertical-align: middle;\n",
       "    }\n",
       "\n",
       "    .dataframe tbody tr th {\n",
       "        vertical-align: top;\n",
       "    }\n",
       "\n",
       "    .dataframe thead th {\n",
       "        text-align: right;\n",
       "    }\n",
       "</style>\n",
       "<table border=\"1\" class=\"dataframe\">\n",
       "  <thead>\n",
       "    <tr style=\"text-align: right;\">\n",
       "      <th></th>\n",
       "      <th>coef</th>\n",
       "      <th>pval</th>\n",
       "    </tr>\n",
       "  </thead>\n",
       "  <tbody>\n",
       "    <tr>\n",
       "      <th>New_price</th>\n",
       "      <td>-0.000872</td>\n",
       "      <td>3.240490e-02</td>\n",
       "    </tr>\n",
       "    <tr>\n",
       "      <th>Brand_renault</th>\n",
       "      <td>-0.058280</td>\n",
       "      <td>2.074402e-02</td>\n",
       "    </tr>\n",
       "    <tr>\n",
       "      <th>Location_Kochi</th>\n",
       "      <td>-0.039519</td>\n",
       "      <td>1.828461e-02</td>\n",
       "    </tr>\n",
       "    <tr>\n",
       "      <th>Brand_jeep</th>\n",
       "      <td>0.200457</td>\n",
       "      <td>8.659938e-03</td>\n",
       "    </tr>\n",
       "    <tr>\n",
       "      <th>Brand_lamborghini</th>\n",
       "      <td>0.697730</td>\n",
       "      <td>6.842808e-03</td>\n",
       "    </tr>\n",
       "    <tr>\n",
       "      <th>Location_Pune</th>\n",
       "      <td>-0.047801</td>\n",
       "      <td>3.711142e-03</td>\n",
       "    </tr>\n",
       "    <tr>\n",
       "      <th>Location_Mumbai</th>\n",
       "      <td>-0.047360</td>\n",
       "      <td>2.609312e-03</td>\n",
       "    </tr>\n",
       "    <tr>\n",
       "      <th>Location_Delhi</th>\n",
       "      <td>-0.064277</td>\n",
       "      <td>1.708082e-04</td>\n",
       "    </tr>\n",
       "    <tr>\n",
       "      <th>Location_Jaipur</th>\n",
       "      <td>-0.079459</td>\n",
       "      <td>1.787205e-05</td>\n",
       "    </tr>\n",
       "    <tr>\n",
       "      <th>Brand_mahindra</th>\n",
       "      <td>-0.100744</td>\n",
       "      <td>1.657022e-05</td>\n",
       "    </tr>\n",
       "    <tr>\n",
       "      <th>Owner_Type_Third</th>\n",
       "      <td>-0.126548</td>\n",
       "      <td>1.068864e-05</td>\n",
       "    </tr>\n",
       "    <tr>\n",
       "      <th>Brand_skoda</th>\n",
       "      <td>0.111664</td>\n",
       "      <td>2.524080e-06</td>\n",
       "    </tr>\n",
       "    <tr>\n",
       "      <th>Fuel_Type_Electric</th>\n",
       "      <td>1.183211</td>\n",
       "      <td>2.066016e-06</td>\n",
       "    </tr>\n",
       "    <tr>\n",
       "      <th>Owner_Type_Second</th>\n",
       "      <td>-0.056933</td>\n",
       "      <td>3.784055e-07</td>\n",
       "    </tr>\n",
       "    <tr>\n",
       "      <th>Brand_fiat</th>\n",
       "      <td>-0.297074</td>\n",
       "      <td>2.358241e-07</td>\n",
       "    </tr>\n",
       "    <tr>\n",
       "      <th>Location_Coimbatore</th>\n",
       "      <td>0.093178</td>\n",
       "      <td>2.293838e-08</td>\n",
       "    </tr>\n",
       "    <tr>\n",
       "      <th>Brand_porsche</th>\n",
       "      <td>0.423344</td>\n",
       "      <td>1.884719e-08</td>\n",
       "    </tr>\n",
       "    <tr>\n",
       "      <th>Brand_honda</th>\n",
       "      <td>0.079502</td>\n",
       "      <td>1.007104e-08</td>\n",
       "    </tr>\n",
       "    <tr>\n",
       "      <th>Brand_datsun</th>\n",
       "      <td>-0.487873</td>\n",
       "      <td>4.997101e-09</td>\n",
       "    </tr>\n",
       "    <tr>\n",
       "      <th>Brand_volvo</th>\n",
       "      <td>0.398308</td>\n",
       "      <td>5.597994e-10</td>\n",
       "    </tr>\n",
       "    <tr>\n",
       "      <th>Location_Hyderabad</th>\n",
       "      <td>0.098824</td>\n",
       "      <td>3.135263e-10</td>\n",
       "    </tr>\n",
       "    <tr>\n",
       "      <th>Brand_mitsubishi</th>\n",
       "      <td>0.393826</td>\n",
       "      <td>1.870906e-10</td>\n",
       "    </tr>\n",
       "    <tr>\n",
       "      <th>Location_Bangalore</th>\n",
       "      <td>0.156130</td>\n",
       "      <td>1.566247e-15</td>\n",
       "    </tr>\n",
       "    <tr>\n",
       "      <th>kilometers_driven_log</th>\n",
       "      <td>-0.060577</td>\n",
       "      <td>2.595845e-17</td>\n",
       "    </tr>\n",
       "    <tr>\n",
       "      <th>Seats</th>\n",
       "      <td>0.062346</td>\n",
       "      <td>3.306699e-19</td>\n",
       "    </tr>\n",
       "    <tr>\n",
       "      <th>Transmission_Manual</th>\n",
       "      <td>-0.116601</td>\n",
       "      <td>5.486071e-20</td>\n",
       "    </tr>\n",
       "    <tr>\n",
       "      <th>Brand_chevrolet</th>\n",
       "      <td>-0.298327</td>\n",
       "      <td>4.934925e-27</td>\n",
       "    </tr>\n",
       "    <tr>\n",
       "      <th>Brand_jaguar</th>\n",
       "      <td>0.600751</td>\n",
       "      <td>1.620924e-31</td>\n",
       "    </tr>\n",
       "    <tr>\n",
       "      <th>Mileage</th>\n",
       "      <td>-0.015542</td>\n",
       "      <td>8.814969e-32</td>\n",
       "    </tr>\n",
       "    <tr>\n",
       "      <th>Location_Kolkata</th>\n",
       "      <td>-0.248129</td>\n",
       "      <td>5.590546e-45</td>\n",
       "    </tr>\n",
       "    <tr>\n",
       "      <th>Brand_toyota</th>\n",
       "      <td>0.287043</td>\n",
       "      <td>6.141278e-50</td>\n",
       "    </tr>\n",
       "    <tr>\n",
       "      <th>Brand_mini</th>\n",
       "      <td>1.089386</td>\n",
       "      <td>2.275838e-66</td>\n",
       "    </tr>\n",
       "    <tr>\n",
       "      <th>Brand_land</th>\n",
       "      <td>0.912707</td>\n",
       "      <td>1.764891e-88</td>\n",
       "    </tr>\n",
       "    <tr>\n",
       "      <th>Brand_tata</th>\n",
       "      <td>-0.502438</td>\n",
       "      <td>3.094684e-106</td>\n",
       "    </tr>\n",
       "    <tr>\n",
       "      <th>Brand_bmw</th>\n",
       "      <td>0.582990</td>\n",
       "      <td>2.338500e-110</td>\n",
       "    </tr>\n",
       "    <tr>\n",
       "      <th>Brand_audi</th>\n",
       "      <td>0.618530</td>\n",
       "      <td>1.307573e-121</td>\n",
       "    </tr>\n",
       "    <tr>\n",
       "      <th>Brand_mercedes-benz</th>\n",
       "      <td>0.660885</td>\n",
       "      <td>6.289690e-160</td>\n",
       "    </tr>\n",
       "    <tr>\n",
       "      <th>Fuel_Type_Diesel</th>\n",
       "      <td>0.313096</td>\n",
       "      <td>6.344418e-171</td>\n",
       "    </tr>\n",
       "    <tr>\n",
       "      <th>Year</th>\n",
       "      <td>0.119411</td>\n",
       "      <td>0.000000e+00</td>\n",
       "    </tr>\n",
       "    <tr>\n",
       "      <th>Power</th>\n",
       "      <td>0.006255</td>\n",
       "      <td>0.000000e+00</td>\n",
       "    </tr>\n",
       "    <tr>\n",
       "      <th>const</th>\n",
       "      <td>-238.841919</td>\n",
       "      <td>0.000000e+00</td>\n",
       "    </tr>\n",
       "  </tbody>\n",
       "</table>\n",
       "</div>"
      ],
      "text/plain": [
       "                             coef           pval\n",
       "New_price               -0.000872   3.240490e-02\n",
       "Brand_renault           -0.058280   2.074402e-02\n",
       "Location_Kochi          -0.039519   1.828461e-02\n",
       "Brand_jeep               0.200457   8.659938e-03\n",
       "Brand_lamborghini        0.697730   6.842808e-03\n",
       "Location_Pune           -0.047801   3.711142e-03\n",
       "Location_Mumbai         -0.047360   2.609312e-03\n",
       "Location_Delhi          -0.064277   1.708082e-04\n",
       "Location_Jaipur         -0.079459   1.787205e-05\n",
       "Brand_mahindra          -0.100744   1.657022e-05\n",
       "Owner_Type_Third        -0.126548   1.068864e-05\n",
       "Brand_skoda              0.111664   2.524080e-06\n",
       "Fuel_Type_Electric       1.183211   2.066016e-06\n",
       "Owner_Type_Second       -0.056933   3.784055e-07\n",
       "Brand_fiat              -0.297074   2.358241e-07\n",
       "Location_Coimbatore      0.093178   2.293838e-08\n",
       "Brand_porsche            0.423344   1.884719e-08\n",
       "Brand_honda              0.079502   1.007104e-08\n",
       "Brand_datsun            -0.487873   4.997101e-09\n",
       "Brand_volvo              0.398308   5.597994e-10\n",
       "Location_Hyderabad       0.098824   3.135263e-10\n",
       "Brand_mitsubishi         0.393826   1.870906e-10\n",
       "Location_Bangalore       0.156130   1.566247e-15\n",
       "kilometers_driven_log   -0.060577   2.595845e-17\n",
       "Seats                    0.062346   3.306699e-19\n",
       "Transmission_Manual     -0.116601   5.486071e-20\n",
       "Brand_chevrolet         -0.298327   4.934925e-27\n",
       "Brand_jaguar             0.600751   1.620924e-31\n",
       "Mileage                 -0.015542   8.814969e-32\n",
       "Location_Kolkata        -0.248129   5.590546e-45\n",
       "Brand_toyota             0.287043   6.141278e-50\n",
       "Brand_mini               1.089386   2.275838e-66\n",
       "Brand_land               0.912707   1.764891e-88\n",
       "Brand_tata              -0.502438  3.094684e-106\n",
       "Brand_bmw                0.582990  2.338500e-110\n",
       "Brand_audi               0.618530  1.307573e-121\n",
       "Brand_mercedes-benz      0.660885  6.289690e-160\n",
       "Fuel_Type_Diesel         0.313096  6.344418e-171\n",
       "Year                     0.119411   0.000000e+00\n",
       "Power                    0.006255   0.000000e+00\n",
       "const                 -238.841919   0.000000e+00"
      ]
     },
     "execution_count": 413,
     "metadata": {},
     "output_type": "execute_result"
    }
   ],
   "source": [
    "# Filter by significant p-value (pval <= 0.05) and sort descending by Odds ratio\n",
    "\n",
    "olsmod = olsmod.sort_values(by = \"pval\", ascending = False)\n",
    "\n",
    "pval_filter = olsmod['pval']<= 0.05\n",
    "\n",
    "olsmod[pval_filter]"
   ]
  },
  {
   "cell_type": "code",
   "execution_count": 414,
   "metadata": {},
   "outputs": [
    {
     "name": "stdout",
     "output_type": "stream",
     "text": [
      "\u001b[1mMost overall significant categorical varaibles of LINEAR REGRESSION  are \u001b[95m :\n",
      " ['New_price', 'Brand', 'Location', 'Owner_Type', 'Fuel_Type', 'kilometers_driven_log', 'Seats', 'Transmission', 'Mileage', 'Year', 'Power']\n"
     ]
    }
   ],
   "source": [
    "# We are looking are overall significant varaible\n",
    "\n",
    "pval_filter = olsmod['pval']<= 0.05\n",
    "mp_vars = olsmod[pval_filter].index.tolist()\n",
    "\n",
    "# We are going to get overall varaibles (un-one-hot encoded varables) from categorical varaibles\n",
    "sig_var = []\n",
    "for col in mp_vars:\n",
    "    if '' in col:\n",
    "        first_part = col.split('_')[0]\n",
    "        for c in cars_data.columns:\n",
    "            if first_part in c and c not in sig_var :\n",
    "                sig_var.append(c)\n",
    "\n",
    "                \n",
    "start = '\\033[1m'\n",
    "end = '\\033[95m'\n",
    "print(start+ 'Most overall significant categorical varaibles of LINEAR REGRESSION  are ' +end,':\\n', sig_var)"
   ]
  },
  {
   "cell_type": "markdown",
   "metadata": {
    "id": "5uubmKLlVL3j"
   },
   "source": [
    "**Build Ridge / Lasso Regression similar to Linear Regression:**<br>\n",
    "\n",
    "https://scikit-learn.org/stable/modules/generated/sklearn.linear_model.Ridge.html"
   ]
  },
  {
   "cell_type": "code",
   "execution_count": 417,
   "metadata": {
    "id": "9--bgDNhVL3j"
   },
   "outputs": [],
   "source": [
    "# Import Ridge/ Lasso Regression from sklearn\n",
    "from sklearn.linear_model import Ridge"
   ]
  },
  {
   "cell_type": "code",
   "execution_count": 755,
   "metadata": {
    "id": "TwSuk8Q9VL3j"
   },
   "outputs": [],
   "source": [
    "# Create a Ridge regression model\n",
    "clf = Ridge(alpha=0.01)"
   ]
  },
  {
   "cell_type": "code",
   "execution_count": 756,
   "metadata": {
    "id": "5cWh1QK0VL3j"
   },
   "outputs": [
    {
     "data": {
      "text/plain": [
       "Ridge(alpha=0.01)"
      ]
     },
     "execution_count": 756,
     "metadata": {},
     "output_type": "execute_result"
    }
   ],
   "source": [
    "# Fit Ridge regression model\n",
    "clf.fit(X_train, y_train['Price_log']) "
   ]
  },
  {
   "cell_type": "code",
   "execution_count": 757,
   "metadata": {
    "id": "c2tIACYOVL3j"
   },
   "outputs": [
    {
     "name": "stdout",
     "output_type": "stream",
     "text": [
      "R-sqaure on training set :  0.8613408644637992\n",
      "R-square on test set :  0.8607911653260899\n",
      "RMSE on training set :  4.160308272154396\n",
      "RMSE on test set :  4.158271448178352\n"
     ]
    }
   ],
   "source": [
    "# Get score of the model\n",
    "import sklearn.metrics as metrics\n",
    "R_score = get_model_score(clf)"
   ]
  },
  {
   "cell_type": "markdown",
   "metadata": {},
   "source": [
    "**Observations from results: _____**"
   ]
  },
  {
   "cell_type": "markdown",
   "metadata": {},
   "source": [
    "- The error rates and r squared are  quite similar to Linear regression but the OLS linear regression has better variability. We will try some new models to see which works best. "
   ]
  },
  {
   "cell_type": "markdown",
   "metadata": {
    "id": "owyg5IpstOS9"
   },
   "source": [
    "### **Decision Tree** \n",
    "\n",
    "https://scikit-learn.org/stable/auto_examples/tree/plot_tree_regression.html"
   ]
  },
  {
   "cell_type": "code",
   "execution_count": 427,
   "metadata": {
    "id": "GjZeRER6VL3k"
   },
   "outputs": [],
   "source": [
    "# Import Decision tree for Regression from sklearn\n",
    "from sklearn.tree import DecisionTreeRegressor"
   ]
  },
  {
   "cell_type": "code",
   "execution_count": 801,
   "metadata": {
    "id": "shBet9WztOS-"
   },
   "outputs": [],
   "source": [
    "# Create a decision tree regression model, use random_state = 1\n",
    "dtree = DecisionTreeRegressor(random_state = 1)"
   ]
  },
  {
   "cell_type": "code",
   "execution_count": 802,
   "metadata": {
    "id": "eJxVYVXXtOS-"
   },
   "outputs": [
    {
     "data": {
      "text/plain": [
       "DecisionTreeRegressor(random_state=1)"
      ]
     },
     "execution_count": 802,
     "metadata": {},
     "output_type": "execute_result"
    }
   ],
   "source": [
    "# Fit decision tree regression model\n",
    "dtree.fit(X_train, y_train['Price_log'])"
   ]
  },
  {
   "cell_type": "code",
   "execution_count": 803,
   "metadata": {
    "id": "vGbEjda0tOS-"
   },
   "outputs": [
    {
     "name": "stdout",
     "output_type": "stream",
     "text": [
      "R-sqaure on training set :  0.9999965696959587\n",
      "R-square on test set :  0.8274841319713868\n",
      "RMSE on training set :  0.020692719736775493\n",
      "RMSE on test set :  4.6290722700329265\n"
     ]
    }
   ],
   "source": [
    "# Get score of the model\n",
    "Dtree_model = get_model_score(dtree)"
   ]
  },
  {
   "cell_type": "code",
   "execution_count": 804,
   "metadata": {},
   "outputs": [
    {
     "data": {
      "text/plain": [
       "0.9999903038539666"
      ]
     },
     "execution_count": 804,
     "metadata": {},
     "output_type": "execute_result"
    }
   ],
   "source": [
    "accuracy_dt=dtree.score(X_train,y_train['Price_log'])\n",
    "accuracy_dt"
   ]
  },
  {
   "cell_type": "markdown",
   "metadata": {
    "id": "UrCgLVKwtOS-"
   },
   "source": [
    "**Observations from results: _____**\n",
    "- the model is almost perfect on the training data and doesn't perform so well on the test data which indicates that there is overfitting using a Decision tree which probably meanse it is too complex and a simpler model should be used"
   ]
  },
  {
   "cell_type": "markdown",
   "metadata": {
    "id": "6z2V0IwtVL3k"
   },
   "source": [
    "Print the importance of features in the tree building. The importance of a feature is computed as the (normalized) total reduction of the criterion brought by that feature. It is also known as the Gini importance.\n"
   ]
  },
  {
   "cell_type": "code",
   "execution_count": 707,
   "metadata": {
    "id": "E8ro_i9vIrdF"
   },
   "outputs": [
    {
     "data": {
      "text/html": [
       "<div>\n",
       "<style scoped>\n",
       "    .dataframe tbody tr th:only-of-type {\n",
       "        vertical-align: middle;\n",
       "    }\n",
       "\n",
       "    .dataframe tbody tr th {\n",
       "        vertical-align: top;\n",
       "    }\n",
       "\n",
       "    .dataframe thead th {\n",
       "        text-align: right;\n",
       "    }\n",
       "</style>\n",
       "<table border=\"1\" class=\"dataframe\">\n",
       "  <thead>\n",
       "    <tr style=\"text-align: right;\">\n",
       "      <th></th>\n",
       "      <th>Imp</th>\n",
       "    </tr>\n",
       "  </thead>\n",
       "  <tbody>\n",
       "    <tr>\n",
       "      <th>Power</th>\n",
       "      <td>6.111821e-01</td>\n",
       "    </tr>\n",
       "    <tr>\n",
       "      <th>Year</th>\n",
       "      <td>2.312773e-01</td>\n",
       "    </tr>\n",
       "    <tr>\n",
       "      <th>Engine</th>\n",
       "      <td>4.592465e-02</td>\n",
       "    </tr>\n",
       "    <tr>\n",
       "      <th>Mileage</th>\n",
       "      <td>1.999366e-02</td>\n",
       "    </tr>\n",
       "    <tr>\n",
       "      <th>kilometers_driven_log</th>\n",
       "      <td>1.628961e-02</td>\n",
       "    </tr>\n",
       "    <tr>\n",
       "      <th>Brand_tata</th>\n",
       "      <td>5.476441e-03</td>\n",
       "    </tr>\n",
       "    <tr>\n",
       "      <th>New_price</th>\n",
       "      <td>5.451819e-03</td>\n",
       "    </tr>\n",
       "    <tr>\n",
       "      <th>Location_Kolkata</th>\n",
       "      <td>4.536987e-03</td>\n",
       "    </tr>\n",
       "    <tr>\n",
       "      <th>Brand_honda</th>\n",
       "      <td>4.425015e-03</td>\n",
       "    </tr>\n",
       "    <tr>\n",
       "      <th>Transmission_Manual</th>\n",
       "      <td>4.388658e-03</td>\n",
       "    </tr>\n",
       "    <tr>\n",
       "      <th>Brand_audi</th>\n",
       "      <td>3.260891e-03</td>\n",
       "    </tr>\n",
       "    <tr>\n",
       "      <th>Brand_mini</th>\n",
       "      <td>3.182955e-03</td>\n",
       "    </tr>\n",
       "    <tr>\n",
       "      <th>Fuel_Type_Diesel</th>\n",
       "      <td>3.077406e-03</td>\n",
       "    </tr>\n",
       "    <tr>\n",
       "      <th>Brand_mahindra</th>\n",
       "      <td>3.043589e-03</td>\n",
       "    </tr>\n",
       "    <tr>\n",
       "      <th>Location_Hyderabad</th>\n",
       "      <td>2.982967e-03</td>\n",
       "    </tr>\n",
       "    <tr>\n",
       "      <th>Brand_skoda</th>\n",
       "      <td>2.712660e-03</td>\n",
       "    </tr>\n",
       "    <tr>\n",
       "      <th>Brand_land</th>\n",
       "      <td>2.622860e-03</td>\n",
       "    </tr>\n",
       "    <tr>\n",
       "      <th>Brand_bmw</th>\n",
       "      <td>2.589389e-03</td>\n",
       "    </tr>\n",
       "    <tr>\n",
       "      <th>Brand_hyundai</th>\n",
       "      <td>2.114363e-03</td>\n",
       "    </tr>\n",
       "    <tr>\n",
       "      <th>Seats</th>\n",
       "      <td>2.081183e-03</td>\n",
       "    </tr>\n",
       "    <tr>\n",
       "      <th>Location_Coimbatore</th>\n",
       "      <td>2.066665e-03</td>\n",
       "    </tr>\n",
       "    <tr>\n",
       "      <th>Brand_volkswagen</th>\n",
       "      <td>1.813031e-03</td>\n",
       "    </tr>\n",
       "    <tr>\n",
       "      <th>Owner_Type_Second</th>\n",
       "      <td>1.800420e-03</td>\n",
       "    </tr>\n",
       "    <tr>\n",
       "      <th>Location_Mumbai</th>\n",
       "      <td>1.784602e-03</td>\n",
       "    </tr>\n",
       "    <tr>\n",
       "      <th>Brand_toyota</th>\n",
       "      <td>1.749859e-03</td>\n",
       "    </tr>\n",
       "    <tr>\n",
       "      <th>Location_Delhi</th>\n",
       "      <td>1.735197e-03</td>\n",
       "    </tr>\n",
       "    <tr>\n",
       "      <th>Brand_mercedes-benz</th>\n",
       "      <td>1.451146e-03</td>\n",
       "    </tr>\n",
       "    <tr>\n",
       "      <th>Location_Bangalore</th>\n",
       "      <td>1.311564e-03</td>\n",
       "    </tr>\n",
       "    <tr>\n",
       "      <th>Location_Jaipur</th>\n",
       "      <td>1.276077e-03</td>\n",
       "    </tr>\n",
       "    <tr>\n",
       "      <th>Owner_Type_Third</th>\n",
       "      <td>1.181063e-03</td>\n",
       "    </tr>\n",
       "    <tr>\n",
       "      <th>Location_Chennai</th>\n",
       "      <td>1.120653e-03</td>\n",
       "    </tr>\n",
       "    <tr>\n",
       "      <th>Location_Pune</th>\n",
       "      <td>1.070481e-03</td>\n",
       "    </tr>\n",
       "    <tr>\n",
       "      <th>Brand_chevrolet</th>\n",
       "      <td>9.797636e-04</td>\n",
       "    </tr>\n",
       "    <tr>\n",
       "      <th>Brand_ford</th>\n",
       "      <td>8.000337e-04</td>\n",
       "    </tr>\n",
       "    <tr>\n",
       "      <th>Location_Kochi</th>\n",
       "      <td>7.783931e-04</td>\n",
       "    </tr>\n",
       "    <tr>\n",
       "      <th>Brand_maruti</th>\n",
       "      <td>7.745246e-04</td>\n",
       "    </tr>\n",
       "    <tr>\n",
       "      <th>Fuel_Type_Electric</th>\n",
       "      <td>4.335893e-04</td>\n",
       "    </tr>\n",
       "    <tr>\n",
       "      <th>Fuel_Type_Petrol</th>\n",
       "      <td>3.571394e-04</td>\n",
       "    </tr>\n",
       "    <tr>\n",
       "      <th>Brand_fiat</th>\n",
       "      <td>3.271398e-04</td>\n",
       "    </tr>\n",
       "    <tr>\n",
       "      <th>Brand_jeep</th>\n",
       "      <td>2.888263e-04</td>\n",
       "    </tr>\n",
       "    <tr>\n",
       "      <th>Brand_renault</th>\n",
       "      <td>9.924030e-05</td>\n",
       "    </tr>\n",
       "    <tr>\n",
       "      <th>Brand_nissan</th>\n",
       "      <td>7.916443e-05</td>\n",
       "    </tr>\n",
       "    <tr>\n",
       "      <th>Brand_volvo</th>\n",
       "      <td>7.384044e-05</td>\n",
       "    </tr>\n",
       "    <tr>\n",
       "      <th>Fuel_Type_LPG</th>\n",
       "      <td>2.797725e-05</td>\n",
       "    </tr>\n",
       "    <tr>\n",
       "      <th>Brand_jaguar</th>\n",
       "      <td>2.499429e-06</td>\n",
       "    </tr>\n",
       "    <tr>\n",
       "      <th>Brand_datsun</th>\n",
       "      <td>2.011141e-06</td>\n",
       "    </tr>\n",
       "    <tr>\n",
       "      <th>Owner_Type_Fourth &amp; Above</th>\n",
       "      <td>6.516430e-07</td>\n",
       "    </tr>\n",
       "    <tr>\n",
       "      <th>Brand_lamborghini</th>\n",
       "      <td>0.000000e+00</td>\n",
       "    </tr>\n",
       "    <tr>\n",
       "      <th>Brand_mitsubishi</th>\n",
       "      <td>0.000000e+00</td>\n",
       "    </tr>\n",
       "    <tr>\n",
       "      <th>Brand_porsche</th>\n",
       "      <td>0.000000e+00</td>\n",
       "    </tr>\n",
       "    <tr>\n",
       "      <th>Brand_isuzu</th>\n",
       "      <td>0.000000e+00</td>\n",
       "    </tr>\n",
       "    <tr>\n",
       "      <th>Brand_force</th>\n",
       "      <td>0.000000e+00</td>\n",
       "    </tr>\n",
       "    <tr>\n",
       "      <th>Brand_smart</th>\n",
       "      <td>0.000000e+00</td>\n",
       "    </tr>\n",
       "    <tr>\n",
       "      <th>Brand_bentley</th>\n",
       "      <td>0.000000e+00</td>\n",
       "    </tr>\n",
       "  </tbody>\n",
       "</table>\n",
       "</div>"
      ],
      "text/plain": [
       "                                    Imp\n",
       "Power                      6.111821e-01\n",
       "Year                       2.312773e-01\n",
       "Engine                     4.592465e-02\n",
       "Mileage                    1.999366e-02\n",
       "kilometers_driven_log      1.628961e-02\n",
       "Brand_tata                 5.476441e-03\n",
       "New_price                  5.451819e-03\n",
       "Location_Kolkata           4.536987e-03\n",
       "Brand_honda                4.425015e-03\n",
       "Transmission_Manual        4.388658e-03\n",
       "Brand_audi                 3.260891e-03\n",
       "Brand_mini                 3.182955e-03\n",
       "Fuel_Type_Diesel           3.077406e-03\n",
       "Brand_mahindra             3.043589e-03\n",
       "Location_Hyderabad         2.982967e-03\n",
       "Brand_skoda                2.712660e-03\n",
       "Brand_land                 2.622860e-03\n",
       "Brand_bmw                  2.589389e-03\n",
       "Brand_hyundai              2.114363e-03\n",
       "Seats                      2.081183e-03\n",
       "Location_Coimbatore        2.066665e-03\n",
       "Brand_volkswagen           1.813031e-03\n",
       "Owner_Type_Second          1.800420e-03\n",
       "Location_Mumbai            1.784602e-03\n",
       "Brand_toyota               1.749859e-03\n",
       "Location_Delhi             1.735197e-03\n",
       "Brand_mercedes-benz        1.451146e-03\n",
       "Location_Bangalore         1.311564e-03\n",
       "Location_Jaipur            1.276077e-03\n",
       "Owner_Type_Third           1.181063e-03\n",
       "Location_Chennai           1.120653e-03\n",
       "Location_Pune              1.070481e-03\n",
       "Brand_chevrolet            9.797636e-04\n",
       "Brand_ford                 8.000337e-04\n",
       "Location_Kochi             7.783931e-04\n",
       "Brand_maruti               7.745246e-04\n",
       "Fuel_Type_Electric         4.335893e-04\n",
       "Fuel_Type_Petrol           3.571394e-04\n",
       "Brand_fiat                 3.271398e-04\n",
       "Brand_jeep                 2.888263e-04\n",
       "Brand_renault              9.924030e-05\n",
       "Brand_nissan               7.916443e-05\n",
       "Brand_volvo                7.384044e-05\n",
       "Fuel_Type_LPG              2.797725e-05\n",
       "Brand_jaguar               2.499429e-06\n",
       "Brand_datsun               2.011141e-06\n",
       "Owner_Type_Fourth & Above  6.516430e-07\n",
       "Brand_lamborghini          0.000000e+00\n",
       "Brand_mitsubishi           0.000000e+00\n",
       "Brand_porsche              0.000000e+00\n",
       "Brand_isuzu                0.000000e+00\n",
       "Brand_force                0.000000e+00\n",
       "Brand_smart                0.000000e+00\n",
       "Brand_bentley              0.000000e+00"
      ]
     },
     "execution_count": 707,
     "metadata": {},
     "output_type": "execute_result"
    }
   ],
   "source": [
    "\n",
    "imp_feat= (pd.DataFrame(dtree.feature_importances_, columns = [\"Imp\"], \n",
    "                   index = X_train.columns).sort_values(by = 'Imp', ascending = False))\n",
    "imp_feat"
   ]
  },
  {
   "cell_type": "markdown",
   "metadata": {
    "id": "m9P0pzHHIrdG"
   },
   "source": [
    "**Observations and insights: _____**\n",
    "\n",
    "The most important features that influence the target variable according to the Decision tree are Power, Year and Engine"
   ]
  },
  {
   "cell_type": "markdown",
   "metadata": {
    "id": "q8eFynaNtOS-"
   },
   "source": [
    "### **Random Forest**\n",
    "\n",
    "https://scikit-learn.org/stable/modules/generated/sklearn.ensemble.RandomForestRegressor.html"
   ]
  },
  {
   "cell_type": "code",
   "execution_count": 432,
   "metadata": {
    "id": "Jhw-0FsNVL3l"
   },
   "outputs": [],
   "source": [
    "# Import Randomforest for Regression from sklearn\n",
    "from sklearn.ensemble import RandomForestRegressor"
   ]
  },
  {
   "cell_type": "code",
   "execution_count": 554,
   "metadata": {
    "id": "-4S4FoDXtOS-"
   },
   "outputs": [],
   "source": [
    "# Create a Randomforest regression model \n",
    "regr = RandomForestRegressor()"
   ]
  },
  {
   "cell_type": "code",
   "execution_count": 555,
   "metadata": {
    "id": "gBlavhMTtOS-"
   },
   "outputs": [
    {
     "data": {
      "text/plain": [
       "RandomForestRegressor()"
      ]
     },
     "execution_count": 555,
     "metadata": {},
     "output_type": "execute_result"
    }
   ],
   "source": [
    "# Fit Randomforest regression model\n",
    "regr.fit(X_train, y_train['Price_log'])"
   ]
  },
  {
   "cell_type": "code",
   "execution_count": 454,
   "metadata": {
    "id": "VLDDeeAGtOS_"
   },
   "outputs": [
    {
     "name": "stdout",
     "output_type": "stream",
     "text": [
      "R-sqaure on training set :  0.9764790508160264\n",
      "R-square on test set :  0.8555826169552051\n",
      "RMSE on training set :  1.7134786205823105\n",
      "RMSE on test set :  4.235348707622516\n"
     ]
    }
   ],
   "source": [
    "# Get score of the model\n",
    "regr_model = get_model_score(regr)"
   ]
  },
  {
   "cell_type": "code",
   "execution_count": 556,
   "metadata": {},
   "outputs": [
    {
     "data": {
      "text/plain": [
       "0.9902328529697196"
      ]
     },
     "execution_count": 556,
     "metadata": {},
     "output_type": "execute_result"
    }
   ],
   "source": [
    "accuracy_rf=regr.score(X_train,y_train['Price_log'])\n",
    "accuracy_rf"
   ]
  },
  {
   "cell_type": "markdown",
   "metadata": {
    "id": "ZGNTRfaitOS_"
   },
   "source": [
    "**Observations and insights: _____**\n",
    "Performs better on test data than Decision tree model and also has a lower error but there seems to be overfitting. "
   ]
  },
  {
   "cell_type": "markdown",
   "metadata": {
    "id": "pgwyNxUuIrdG"
   },
   "source": [
    "**Feature Importance**"
   ]
  },
  {
   "cell_type": "code",
   "execution_count": 706,
   "metadata": {
    "id": "AWRS7zISIrdG"
   },
   "outputs": [
    {
     "data": {
      "text/html": [
       "<div>\n",
       "<style scoped>\n",
       "    .dataframe tbody tr th:only-of-type {\n",
       "        vertical-align: middle;\n",
       "    }\n",
       "\n",
       "    .dataframe tbody tr th {\n",
       "        vertical-align: top;\n",
       "    }\n",
       "\n",
       "    .dataframe thead th {\n",
       "        text-align: right;\n",
       "    }\n",
       "</style>\n",
       "<table border=\"1\" class=\"dataframe\">\n",
       "  <thead>\n",
       "    <tr style=\"text-align: right;\">\n",
       "      <th></th>\n",
       "      <th>Imp</th>\n",
       "    </tr>\n",
       "  </thead>\n",
       "  <tbody>\n",
       "    <tr>\n",
       "      <th>Power</th>\n",
       "      <td>0.617653</td>\n",
       "    </tr>\n",
       "    <tr>\n",
       "      <th>Year</th>\n",
       "      <td>0.230386</td>\n",
       "    </tr>\n",
       "    <tr>\n",
       "      <th>Engine</th>\n",
       "      <td>0.037251</td>\n",
       "    </tr>\n",
       "    <tr>\n",
       "      <th>kilometers_driven_log</th>\n",
       "      <td>0.018600</td>\n",
       "    </tr>\n",
       "    <tr>\n",
       "      <th>Mileage</th>\n",
       "      <td>0.016618</td>\n",
       "    </tr>\n",
       "    <tr>\n",
       "      <th>New_price</th>\n",
       "      <td>0.006290</td>\n",
       "    </tr>\n",
       "    <tr>\n",
       "      <th>Brand_land</th>\n",
       "      <td>0.005414</td>\n",
       "    </tr>\n",
       "    <tr>\n",
       "      <th>Location_Kolkata</th>\n",
       "      <td>0.005205</td>\n",
       "    </tr>\n",
       "    <tr>\n",
       "      <th>Brand_tata</th>\n",
       "      <td>0.005165</td>\n",
       "    </tr>\n",
       "    <tr>\n",
       "      <th>Transmission_Manual</th>\n",
       "      <td>0.004389</td>\n",
       "    </tr>\n",
       "    <tr>\n",
       "      <th>Brand_honda</th>\n",
       "      <td>0.003740</td>\n",
       "    </tr>\n",
       "    <tr>\n",
       "      <th>Seats</th>\n",
       "      <td>0.003532</td>\n",
       "    </tr>\n",
       "    <tr>\n",
       "      <th>Brand_mercedes-benz</th>\n",
       "      <td>0.003332</td>\n",
       "    </tr>\n",
       "    <tr>\n",
       "      <th>Location_Hyderabad</th>\n",
       "      <td>0.002972</td>\n",
       "    </tr>\n",
       "    <tr>\n",
       "      <th>Brand_mahindra</th>\n",
       "      <td>0.002929</td>\n",
       "    </tr>\n",
       "    <tr>\n",
       "      <th>Brand_bmw</th>\n",
       "      <td>0.002430</td>\n",
       "    </tr>\n",
       "    <tr>\n",
       "      <th>Location_Coimbatore</th>\n",
       "      <td>0.002342</td>\n",
       "    </tr>\n",
       "    <tr>\n",
       "      <th>Brand_mini</th>\n",
       "      <td>0.002330</td>\n",
       "    </tr>\n",
       "    <tr>\n",
       "      <th>Brand_audi</th>\n",
       "      <td>0.002144</td>\n",
       "    </tr>\n",
       "    <tr>\n",
       "      <th>Fuel_Type_Diesel</th>\n",
       "      <td>0.002085</td>\n",
       "    </tr>\n",
       "    <tr>\n",
       "      <th>Brand_skoda</th>\n",
       "      <td>0.002067</td>\n",
       "    </tr>\n",
       "    <tr>\n",
       "      <th>Fuel_Type_Petrol</th>\n",
       "      <td>0.001723</td>\n",
       "    </tr>\n",
       "    <tr>\n",
       "      <th>Owner_Type_Second</th>\n",
       "      <td>0.001684</td>\n",
       "    </tr>\n",
       "    <tr>\n",
       "      <th>Brand_toyota</th>\n",
       "      <td>0.001666</td>\n",
       "    </tr>\n",
       "    <tr>\n",
       "      <th>Location_Bangalore</th>\n",
       "      <td>0.001555</td>\n",
       "    </tr>\n",
       "    <tr>\n",
       "      <th>Brand_volkswagen</th>\n",
       "      <td>0.001494</td>\n",
       "    </tr>\n",
       "    <tr>\n",
       "      <th>Brand_hyundai</th>\n",
       "      <td>0.001480</td>\n",
       "    </tr>\n",
       "    <tr>\n",
       "      <th>Location_Delhi</th>\n",
       "      <td>0.001473</td>\n",
       "    </tr>\n",
       "    <tr>\n",
       "      <th>Location_Mumbai</th>\n",
       "      <td>0.001464</td>\n",
       "    </tr>\n",
       "    <tr>\n",
       "      <th>Brand_chevrolet</th>\n",
       "      <td>0.001383</td>\n",
       "    </tr>\n",
       "    <tr>\n",
       "      <th>Location_Jaipur</th>\n",
       "      <td>0.001287</td>\n",
       "    </tr>\n",
       "    <tr>\n",
       "      <th>Location_Pune</th>\n",
       "      <td>0.001279</td>\n",
       "    </tr>\n",
       "    <tr>\n",
       "      <th>Owner_Type_Third</th>\n",
       "      <td>0.001047</td>\n",
       "    </tr>\n",
       "    <tr>\n",
       "      <th>Location_Chennai</th>\n",
       "      <td>0.001007</td>\n",
       "    </tr>\n",
       "    <tr>\n",
       "      <th>Brand_maruti</th>\n",
       "      <td>0.000939</td>\n",
       "    </tr>\n",
       "    <tr>\n",
       "      <th>Location_Kochi</th>\n",
       "      <td>0.000848</td>\n",
       "    </tr>\n",
       "    <tr>\n",
       "      <th>Brand_ford</th>\n",
       "      <td>0.000582</td>\n",
       "    </tr>\n",
       "    <tr>\n",
       "      <th>Brand_porsche</th>\n",
       "      <td>0.000510</td>\n",
       "    </tr>\n",
       "    <tr>\n",
       "      <th>Fuel_Type_Electric</th>\n",
       "      <td>0.000270</td>\n",
       "    </tr>\n",
       "    <tr>\n",
       "      <th>Brand_renault</th>\n",
       "      <td>0.000246</td>\n",
       "    </tr>\n",
       "    <tr>\n",
       "      <th>Brand_fiat</th>\n",
       "      <td>0.000233</td>\n",
       "    </tr>\n",
       "    <tr>\n",
       "      <th>Brand_nissan</th>\n",
       "      <td>0.000202</td>\n",
       "    </tr>\n",
       "    <tr>\n",
       "      <th>Brand_jeep</th>\n",
       "      <td>0.000163</td>\n",
       "    </tr>\n",
       "    <tr>\n",
       "      <th>Brand_mitsubishi</th>\n",
       "      <td>0.000148</td>\n",
       "    </tr>\n",
       "    <tr>\n",
       "      <th>Brand_jaguar</th>\n",
       "      <td>0.000147</td>\n",
       "    </tr>\n",
       "    <tr>\n",
       "      <th>Brand_volvo</th>\n",
       "      <td>0.000100</td>\n",
       "    </tr>\n",
       "    <tr>\n",
       "      <th>Brand_lamborghini</th>\n",
       "      <td>0.000067</td>\n",
       "    </tr>\n",
       "    <tr>\n",
       "      <th>Owner_Type_Fourth &amp; Above</th>\n",
       "      <td>0.000051</td>\n",
       "    </tr>\n",
       "    <tr>\n",
       "      <th>Brand_bentley</th>\n",
       "      <td>0.000022</td>\n",
       "    </tr>\n",
       "    <tr>\n",
       "      <th>Brand_datsun</th>\n",
       "      <td>0.000020</td>\n",
       "    </tr>\n",
       "    <tr>\n",
       "      <th>Fuel_Type_LPG</th>\n",
       "      <td>0.000011</td>\n",
       "    </tr>\n",
       "    <tr>\n",
       "      <th>Brand_smart</th>\n",
       "      <td>0.000009</td>\n",
       "    </tr>\n",
       "    <tr>\n",
       "      <th>Brand_isuzu</th>\n",
       "      <td>0.000007</td>\n",
       "    </tr>\n",
       "    <tr>\n",
       "      <th>Brand_force</th>\n",
       "      <td>0.000005</td>\n",
       "    </tr>\n",
       "  </tbody>\n",
       "</table>\n",
       "</div>"
      ],
      "text/plain": [
       "                                Imp\n",
       "Power                      0.617653\n",
       "Year                       0.230386\n",
       "Engine                     0.037251\n",
       "kilometers_driven_log      0.018600\n",
       "Mileage                    0.016618\n",
       "New_price                  0.006290\n",
       "Brand_land                 0.005414\n",
       "Location_Kolkata           0.005205\n",
       "Brand_tata                 0.005165\n",
       "Transmission_Manual        0.004389\n",
       "Brand_honda                0.003740\n",
       "Seats                      0.003532\n",
       "Brand_mercedes-benz        0.003332\n",
       "Location_Hyderabad         0.002972\n",
       "Brand_mahindra             0.002929\n",
       "Brand_bmw                  0.002430\n",
       "Location_Coimbatore        0.002342\n",
       "Brand_mini                 0.002330\n",
       "Brand_audi                 0.002144\n",
       "Fuel_Type_Diesel           0.002085\n",
       "Brand_skoda                0.002067\n",
       "Fuel_Type_Petrol           0.001723\n",
       "Owner_Type_Second          0.001684\n",
       "Brand_toyota               0.001666\n",
       "Location_Bangalore         0.001555\n",
       "Brand_volkswagen           0.001494\n",
       "Brand_hyundai              0.001480\n",
       "Location_Delhi             0.001473\n",
       "Location_Mumbai            0.001464\n",
       "Brand_chevrolet            0.001383\n",
       "Location_Jaipur            0.001287\n",
       "Location_Pune              0.001279\n",
       "Owner_Type_Third           0.001047\n",
       "Location_Chennai           0.001007\n",
       "Brand_maruti               0.000939\n",
       "Location_Kochi             0.000848\n",
       "Brand_ford                 0.000582\n",
       "Brand_porsche              0.000510\n",
       "Fuel_Type_Electric         0.000270\n",
       "Brand_renault              0.000246\n",
       "Brand_fiat                 0.000233\n",
       "Brand_nissan               0.000202\n",
       "Brand_jeep                 0.000163\n",
       "Brand_mitsubishi           0.000148\n",
       "Brand_jaguar               0.000147\n",
       "Brand_volvo                0.000100\n",
       "Brand_lamborghini          0.000067\n",
       "Owner_Type_Fourth & Above  0.000051\n",
       "Brand_bentley              0.000022\n",
       "Brand_datsun               0.000020\n",
       "Fuel_Type_LPG              0.000011\n",
       "Brand_smart                0.000009\n",
       "Brand_isuzu                0.000007\n",
       "Brand_force                0.000005"
      ]
     },
     "execution_count": 706,
     "metadata": {},
     "output_type": "execute_result"
    }
   ],
   "source": [
    "# Print important features similar to decision trees\n",
    "imp_feat= (pd.DataFrame(regr.feature_importances_, columns = [\"Imp\"], \n",
    "                   index = X_train.columns).sort_values(by = 'Imp', ascending = False))\n",
    "\n",
    "imp_feat"
   ]
  },
  {
   "cell_type": "markdown",
   "metadata": {
    "id": "cG9ZD9ozIrdH"
   },
   "source": [
    "**Observations and insights: _____**\n",
    "- just like the decision tree, the most important features using the random forest algorithm are power, year and engine"
   ]
  },
  {
   "cell_type": "markdown",
   "metadata": {
    "id": "sw0dMSgetOS_"
   },
   "source": [
    "### **Hyperparameter Tuning: Decision Tree**"
   ]
  },
  {
   "cell_type": "code",
   "execution_count": 557,
   "metadata": {},
   "outputs": [],
   "source": [
    "from sklearn.model_selection import GridSearchCV, cross_val_score, cross_val_predict, train_test_split\n"
   ]
  },
  {
   "cell_type": "code",
   "execution_count": null,
   "metadata": {
    "id": "4eF0aYHHtOS_"
   },
   "outputs": [],
   "source": [
    "# Choose the type of estimator \n",
    "dtree_tuned = DecisionTreeRegressor(random_state = 1, n_jobs=-1)\n",
    "\n",
    "# Grid of parameters to choose from\n",
    "# Check documentation for all the parametrs that the model takes and play with those\n",
    "parameters = {\"min_samples_split\": [10, 20, 40],\n",
    "              \"max_depth\": [2, 6, 8,10,12,14],\n",
    "              \"min_samples_leaf\": [20, 40, 100],\n",
    "              \"max_leaf_nodes\": [5, 20, 100],\n",
    "              \"max_features\": [\"sqrt\",\"auto\"]\n",
    "               \"criterion\" : [\"squared_error\",\"friedman_mse\",\"absolute_error\"]\n",
    "            \n",
    "             }\n",
    "\n"
   ]
  },
  {
   "cell_type": "code",
   "execution_count": 807,
   "metadata": {},
   "outputs": [
    {
     "name": "stdout",
     "output_type": "stream",
     "text": [
      "Best Hyperparameters::\n",
      "{'criterion': 'squared_error', 'max_depth': 12, 'max_features': 'auto', 'max_leaf_nodes': 100, 'min_samples_leaf': 20, 'min_samples_split': 10}\n"
     ]
    }
   ],
   "source": [
    "# Run the grid search\n",
    "grid_obj = GridSearchCV(dtree_tuned, parameters, cv=10)\n",
    "grid_obj.fit(X_train, y_train['Price_log'])\n",
    "\n",
    "# Set the model to the best combination of parameters\n",
    "dtree_tuned = grid_obj.best_estimator_\n",
    "\n",
    "print(\"Best Hyperparameters::\\n{}\".format(grid_obj.best_params_))"
   ]
  },
  {
   "cell_type": "code",
   "execution_count": 567,
   "metadata": {},
   "outputs": [
    {
     "data": {
      "text/plain": [
       "DecisionTreeRegressor(max_depth=12, max_features='auto', max_leaf_nodes=100,\n",
       "                      min_samples_leaf=20, min_samples_split=10,\n",
       "                      random_state=0)"
      ]
     },
     "execution_count": 567,
     "metadata": {},
     "output_type": "execute_result"
    }
   ],
   "source": [
    "# Fit the best algorithm to the data\n",
    "dtree_tuned = DecisionTreeRegressor(criterion=\"squared_error\",random_state=0,max_depth= 12, \n",
    "                                    max_leaf_nodes= 100, max_features=\"auto\",\n",
    "                                    min_samples_leaf= 20, min_samples_split= 10)\n",
    "\n",
    "\n",
    "dtree_tuned.fit(X_train, y_train['Price_log'])\n"
   ]
  },
  {
   "cell_type": "code",
   "execution_count": 571,
   "metadata": {
    "id": "hctfJIAXtOS_"
   },
   "outputs": [
    {
     "name": "stdout",
     "output_type": "stream",
     "text": [
      "R-sqaure on training set :  0.8360649180445646\n",
      "R-square on test set :  0.7910204039477415\n",
      "RMSE on training set :  4.523631496655098\n",
      "RMSE on test set :  5.09484973856102\n"
     ]
    }
   ],
   "source": [
    "# Get score of the dtree_tuned\n",
    "Dtree_model = get_model_score(dtree_tuned)\n"
   ]
  },
  {
   "cell_type": "code",
   "execution_count": 573,
   "metadata": {},
   "outputs": [
    {
     "data": {
      "text/plain": [
       "0.8990076914945273"
      ]
     },
     "execution_count": 573,
     "metadata": {},
     "output_type": "execute_result"
    }
   ],
   "source": [
    "accuracy_grid_cv_dtm=dtree_tuned.score(X_train,y_train['Price_log'])\n",
    "accuracy_grid_cv_dtm"
   ]
  },
  {
   "cell_type": "markdown",
   "metadata": {
    "id": "UsGmvq1StOS_"
   },
   "source": [
    "**Observations and insights: _____**\n",
    "- the model no longer overfits on the data after hyperparameter tuning. "
   ]
  },
  {
   "cell_type": "markdown",
   "metadata": {
    "id": "5jssEF5eIrdH"
   },
   "source": [
    "**Feature Importance**"
   ]
  },
  {
   "cell_type": "code",
   "execution_count": 705,
   "metadata": {
    "id": "OdzQWq8WtOTA"
   },
   "outputs": [
    {
     "data": {
      "text/html": [
       "<div>\n",
       "<style scoped>\n",
       "    .dataframe tbody tr th:only-of-type {\n",
       "        vertical-align: middle;\n",
       "    }\n",
       "\n",
       "    .dataframe tbody tr th {\n",
       "        vertical-align: top;\n",
       "    }\n",
       "\n",
       "    .dataframe thead th {\n",
       "        text-align: right;\n",
       "    }\n",
       "</style>\n",
       "<table border=\"1\" class=\"dataframe\">\n",
       "  <thead>\n",
       "    <tr style=\"text-align: right;\">\n",
       "      <th></th>\n",
       "      <th>Imp</th>\n",
       "    </tr>\n",
       "  </thead>\n",
       "  <tbody>\n",
       "    <tr>\n",
       "      <th>Power</th>\n",
       "      <td>0.667953</td>\n",
       "    </tr>\n",
       "    <tr>\n",
       "      <th>Year</th>\n",
       "      <td>0.248744</td>\n",
       "    </tr>\n",
       "    <tr>\n",
       "      <th>Engine</th>\n",
       "      <td>0.044981</td>\n",
       "    </tr>\n",
       "    <tr>\n",
       "      <th>Mileage</th>\n",
       "      <td>0.010684</td>\n",
       "    </tr>\n",
       "    <tr>\n",
       "      <th>Transmission_Manual</th>\n",
       "      <td>0.006464</td>\n",
       "    </tr>\n",
       "    <tr>\n",
       "      <th>kilometers_driven_log</th>\n",
       "      <td>0.004657</td>\n",
       "    </tr>\n",
       "    <tr>\n",
       "      <th>Brand_tata</th>\n",
       "      <td>0.004070</td>\n",
       "    </tr>\n",
       "    <tr>\n",
       "      <th>Fuel_Type_Petrol</th>\n",
       "      <td>0.003752</td>\n",
       "    </tr>\n",
       "    <tr>\n",
       "      <th>Location_Kolkata</th>\n",
       "      <td>0.002040</td>\n",
       "    </tr>\n",
       "    <tr>\n",
       "      <th>Brand_mercedes-benz</th>\n",
       "      <td>0.002011</td>\n",
       "    </tr>\n",
       "    <tr>\n",
       "      <th>Brand_mahindra</th>\n",
       "      <td>0.001656</td>\n",
       "    </tr>\n",
       "    <tr>\n",
       "      <th>Location_Hyderabad</th>\n",
       "      <td>0.001129</td>\n",
       "    </tr>\n",
       "    <tr>\n",
       "      <th>New_price</th>\n",
       "      <td>0.000566</td>\n",
       "    </tr>\n",
       "    <tr>\n",
       "      <th>Brand_maruti</th>\n",
       "      <td>0.000553</td>\n",
       "    </tr>\n",
       "    <tr>\n",
       "      <th>Fuel_Type_Diesel</th>\n",
       "      <td>0.000460</td>\n",
       "    </tr>\n",
       "    <tr>\n",
       "      <th>Brand_audi</th>\n",
       "      <td>0.000279</td>\n",
       "    </tr>\n",
       "    <tr>\n",
       "      <th>Brand_isuzu</th>\n",
       "      <td>0.000000</td>\n",
       "    </tr>\n",
       "    <tr>\n",
       "      <th>Brand_land</th>\n",
       "      <td>0.000000</td>\n",
       "    </tr>\n",
       "    <tr>\n",
       "      <th>Brand_jeep</th>\n",
       "      <td>0.000000</td>\n",
       "    </tr>\n",
       "    <tr>\n",
       "      <th>Brand_jaguar</th>\n",
       "      <td>0.000000</td>\n",
       "    </tr>\n",
       "    <tr>\n",
       "      <th>Brand_lamborghini</th>\n",
       "      <td>0.000000</td>\n",
       "    </tr>\n",
       "    <tr>\n",
       "      <th>Brand_mitsubishi</th>\n",
       "      <td>0.000000</td>\n",
       "    </tr>\n",
       "    <tr>\n",
       "      <th>Brand_mini</th>\n",
       "      <td>0.000000</td>\n",
       "    </tr>\n",
       "    <tr>\n",
       "      <th>Brand_honda</th>\n",
       "      <td>0.000000</td>\n",
       "    </tr>\n",
       "    <tr>\n",
       "      <th>Brand_nissan</th>\n",
       "      <td>0.000000</td>\n",
       "    </tr>\n",
       "    <tr>\n",
       "      <th>Brand_porsche</th>\n",
       "      <td>0.000000</td>\n",
       "    </tr>\n",
       "    <tr>\n",
       "      <th>Brand_renault</th>\n",
       "      <td>0.000000</td>\n",
       "    </tr>\n",
       "    <tr>\n",
       "      <th>Brand_skoda</th>\n",
       "      <td>0.000000</td>\n",
       "    </tr>\n",
       "    <tr>\n",
       "      <th>Brand_smart</th>\n",
       "      <td>0.000000</td>\n",
       "    </tr>\n",
       "    <tr>\n",
       "      <th>Brand_toyota</th>\n",
       "      <td>0.000000</td>\n",
       "    </tr>\n",
       "    <tr>\n",
       "      <th>Brand_volkswagen</th>\n",
       "      <td>0.000000</td>\n",
       "    </tr>\n",
       "    <tr>\n",
       "      <th>Brand_hyundai</th>\n",
       "      <td>0.000000</td>\n",
       "    </tr>\n",
       "    <tr>\n",
       "      <th>Brand_bmw</th>\n",
       "      <td>0.000000</td>\n",
       "    </tr>\n",
       "    <tr>\n",
       "      <th>Brand_ford</th>\n",
       "      <td>0.000000</td>\n",
       "    </tr>\n",
       "    <tr>\n",
       "      <th>Location_Pune</th>\n",
       "      <td>0.000000</td>\n",
       "    </tr>\n",
       "    <tr>\n",
       "      <th>Seats</th>\n",
       "      <td>0.000000</td>\n",
       "    </tr>\n",
       "    <tr>\n",
       "      <th>Location_Bangalore</th>\n",
       "      <td>0.000000</td>\n",
       "    </tr>\n",
       "    <tr>\n",
       "      <th>Location_Chennai</th>\n",
       "      <td>0.000000</td>\n",
       "    </tr>\n",
       "    <tr>\n",
       "      <th>Location_Coimbatore</th>\n",
       "      <td>0.000000</td>\n",
       "    </tr>\n",
       "    <tr>\n",
       "      <th>Location_Delhi</th>\n",
       "      <td>0.000000</td>\n",
       "    </tr>\n",
       "    <tr>\n",
       "      <th>Location_Jaipur</th>\n",
       "      <td>0.000000</td>\n",
       "    </tr>\n",
       "    <tr>\n",
       "      <th>Location_Kochi</th>\n",
       "      <td>0.000000</td>\n",
       "    </tr>\n",
       "    <tr>\n",
       "      <th>Location_Mumbai</th>\n",
       "      <td>0.000000</td>\n",
       "    </tr>\n",
       "    <tr>\n",
       "      <th>Fuel_Type_Electric</th>\n",
       "      <td>0.000000</td>\n",
       "    </tr>\n",
       "    <tr>\n",
       "      <th>Brand_force</th>\n",
       "      <td>0.000000</td>\n",
       "    </tr>\n",
       "    <tr>\n",
       "      <th>Fuel_Type_LPG</th>\n",
       "      <td>0.000000</td>\n",
       "    </tr>\n",
       "    <tr>\n",
       "      <th>Owner_Type_Fourth &amp; Above</th>\n",
       "      <td>0.000000</td>\n",
       "    </tr>\n",
       "    <tr>\n",
       "      <th>Owner_Type_Second</th>\n",
       "      <td>0.000000</td>\n",
       "    </tr>\n",
       "    <tr>\n",
       "      <th>Owner_Type_Third</th>\n",
       "      <td>0.000000</td>\n",
       "    </tr>\n",
       "    <tr>\n",
       "      <th>Brand_bentley</th>\n",
       "      <td>0.000000</td>\n",
       "    </tr>\n",
       "    <tr>\n",
       "      <th>Brand_chevrolet</th>\n",
       "      <td>0.000000</td>\n",
       "    </tr>\n",
       "    <tr>\n",
       "      <th>Brand_datsun</th>\n",
       "      <td>0.000000</td>\n",
       "    </tr>\n",
       "    <tr>\n",
       "      <th>Brand_fiat</th>\n",
       "      <td>0.000000</td>\n",
       "    </tr>\n",
       "    <tr>\n",
       "      <th>Brand_volvo</th>\n",
       "      <td>0.000000</td>\n",
       "    </tr>\n",
       "  </tbody>\n",
       "</table>\n",
       "</div>"
      ],
      "text/plain": [
       "                                Imp\n",
       "Power                      0.667953\n",
       "Year                       0.248744\n",
       "Engine                     0.044981\n",
       "Mileage                    0.010684\n",
       "Transmission_Manual        0.006464\n",
       "kilometers_driven_log      0.004657\n",
       "Brand_tata                 0.004070\n",
       "Fuel_Type_Petrol           0.003752\n",
       "Location_Kolkata           0.002040\n",
       "Brand_mercedes-benz        0.002011\n",
       "Brand_mahindra             0.001656\n",
       "Location_Hyderabad         0.001129\n",
       "New_price                  0.000566\n",
       "Brand_maruti               0.000553\n",
       "Fuel_Type_Diesel           0.000460\n",
       "Brand_audi                 0.000279\n",
       "Brand_isuzu                0.000000\n",
       "Brand_land                 0.000000\n",
       "Brand_jeep                 0.000000\n",
       "Brand_jaguar               0.000000\n",
       "Brand_lamborghini          0.000000\n",
       "Brand_mitsubishi           0.000000\n",
       "Brand_mini                 0.000000\n",
       "Brand_honda                0.000000\n",
       "Brand_nissan               0.000000\n",
       "Brand_porsche              0.000000\n",
       "Brand_renault              0.000000\n",
       "Brand_skoda                0.000000\n",
       "Brand_smart                0.000000\n",
       "Brand_toyota               0.000000\n",
       "Brand_volkswagen           0.000000\n",
       "Brand_hyundai              0.000000\n",
       "Brand_bmw                  0.000000\n",
       "Brand_ford                 0.000000\n",
       "Location_Pune              0.000000\n",
       "Seats                      0.000000\n",
       "Location_Bangalore         0.000000\n",
       "Location_Chennai           0.000000\n",
       "Location_Coimbatore        0.000000\n",
       "Location_Delhi             0.000000\n",
       "Location_Jaipur            0.000000\n",
       "Location_Kochi             0.000000\n",
       "Location_Mumbai            0.000000\n",
       "Fuel_Type_Electric         0.000000\n",
       "Brand_force                0.000000\n",
       "Fuel_Type_LPG              0.000000\n",
       "Owner_Type_Fourth & Above  0.000000\n",
       "Owner_Type_Second          0.000000\n",
       "Owner_Type_Third           0.000000\n",
       "Brand_bentley              0.000000\n",
       "Brand_chevrolet            0.000000\n",
       "Brand_datsun               0.000000\n",
       "Brand_fiat                 0.000000\n",
       "Brand_volvo                0.000000"
      ]
     },
     "execution_count": 705,
     "metadata": {},
     "output_type": "execute_result"
    }
   ],
   "source": [
    "# Print important features of tuned decision tree similar to decision trees\n",
    "imp_feat= (pd.DataFrame(grid_obj.best_estimator_.feature_importances_, columns = [\"Imp\"], \n",
    "                   index = X_train.columns).sort_values(by = 'Imp', ascending = False))\n",
    "imp_feat"
   ]
  },
  {
   "cell_type": "markdown",
   "metadata": {
    "id": "-r8AR_VotOTB"
   },
   "source": [
    "**Observations and insights: _____**\n",
    "- `power , year and engine still remain the most important features after hyperparameter tuning"
   ]
  },
  {
   "cell_type": "markdown",
   "metadata": {
    "id": "18uxHTy2tOTB"
   },
   "source": [
    "### **Hyperparameter Tuning: Random Forest**"
   ]
  },
  {
   "cell_type": "code",
   "execution_count": null,
   "metadata": {
    "id": "4P_Mj0JYtOTC"
   },
   "outputs": [],
   "source": [
    "# Choose the type of Regressor\n",
    "\"Random Forest Regressor\"\n",
    "\n",
    "regr = RandomForestRegressor()\n",
    "# Define the parameters for Grid to choose from \n",
    "parameters = {\n",
    "            'n_estimators': [50,100,150,200,250,300],\n",
    "            'max_depth': [1,3,5,7,9,11,13,15,17,19,None],\n",
    "            'bootstrap': [True, False],\n",
    "            \"min_samples_split\": [10, 20, 40],\n",
    "            \"min_samples_leaf\": [20, 40, 100],\n",
    "}\n"
   ]
  },
  {
   "cell_type": "code",
   "execution_count": 521,
   "metadata": {},
   "outputs": [
    {
     "name": "stdout",
     "output_type": "stream",
     "text": [
      "Best Hyperparameters::\n",
      "{'bootstrap': True, 'max_depth': 15, 'min_samples_leaf': 20, 'min_samples_split': 10, 'n_estimators': 200}\n"
     ]
    }
   ],
   "source": [
    "# Check documentation for all the parametrs that the model takes and play with those\n",
    "\n",
    "# Type of scoring used to compare parameter combinations\n",
    "\n",
    "# Run the grid search\n",
    "clf = GridSearchCV(regr, parameters)\n",
    "clf.fit(X_train, y_train['Price_log'])\n",
    "print(\"Best Hyperparameters::\\n{}\".format(clf.best_params_))"
   ]
  },
  {
   "cell_type": "code",
   "execution_count": 522,
   "metadata": {},
   "outputs": [
    {
     "data": {
      "text/plain": [
       "RandomForestRegressor(max_depth=15, min_samples_leaf=20, min_samples_split=10,\n",
       "                      n_estimators=200, random_state=0)"
      ]
     },
     "execution_count": 522,
     "metadata": {},
     "output_type": "execute_result"
    }
   ],
   "source": [
    "# Set the model to the best combination of parameters\n",
    "reggr = RandomForestRegressor(random_state=0, n_estimators=200, max_depth=15,\n",
    "                              bootstrap=True, min_samples_leaf=20,min_samples_split=10)\n",
    "\n",
    "reggr.fit(X_train, y_train['Price_log'])\n",
    "# Fit the best algorithm to the data"
   ]
  },
  {
   "cell_type": "code",
   "execution_count": 523,
   "metadata": {
    "id": "HSBtYgpctOTC"
   },
   "outputs": [
    {
     "name": "stdout",
     "output_type": "stream",
     "text": [
      "R-sqaure on training set :  0.8482685612283297\n",
      "R-square on test set :  0.8101481242052181\n",
      "RMSE on training set :  4.352001698525755\n",
      "RMSE on test set :  4.856091748824415\n"
     ]
    }
   ],
   "source": [
    "# Get score of the model\n",
    "model = get_model_score(reggr)"
   ]
  },
  {
   "cell_type": "code",
   "execution_count": 549,
   "metadata": {},
   "outputs": [
    {
     "data": {
      "text/plain": [
       "0.9043615227868786"
      ]
     },
     "execution_count": 549,
     "metadata": {},
     "output_type": "execute_result"
    }
   ],
   "source": [
    "accuracy_grid_cv_rfm=reggr.score(X_train,y_train['Price_log'])\n",
    "accuracy_grid_cv_rfm"
   ]
  },
  {
   "cell_type": "markdown",
   "metadata": {
    "id": "a1WHqIX9tOTC"
   },
   "source": [
    "**Observations and insights: _____**\n",
    "- hypertuning the parameters got rid of the overfitting. there is less error using the hypertuned random Forest compared to the hypertuned Decision tree."
   ]
  },
  {
   "cell_type": "markdown",
   "metadata": {
    "id": "ItsgSUyiIrdI"
   },
   "source": [
    "**Feature Importance**"
   ]
  },
  {
   "cell_type": "code",
   "execution_count": 704,
   "metadata": {
    "id": "9khvM2ZhtOTC"
   },
   "outputs": [
    {
     "data": {
      "text/html": [
       "<div>\n",
       "<style scoped>\n",
       "    .dataframe tbody tr th:only-of-type {\n",
       "        vertical-align: middle;\n",
       "    }\n",
       "\n",
       "    .dataframe tbody tr th {\n",
       "        vertical-align: top;\n",
       "    }\n",
       "\n",
       "    .dataframe thead th {\n",
       "        text-align: right;\n",
       "    }\n",
       "</style>\n",
       "<table border=\"1\" class=\"dataframe\">\n",
       "  <thead>\n",
       "    <tr style=\"text-align: right;\">\n",
       "      <th></th>\n",
       "      <th>Imp</th>\n",
       "    </tr>\n",
       "  </thead>\n",
       "  <tbody>\n",
       "    <tr>\n",
       "      <th>Power</th>\n",
       "      <td>0.681892</td>\n",
       "    </tr>\n",
       "    <tr>\n",
       "      <th>Year</th>\n",
       "      <td>0.249748</td>\n",
       "    </tr>\n",
       "    <tr>\n",
       "      <th>Engine</th>\n",
       "      <td>0.034064</td>\n",
       "    </tr>\n",
       "    <tr>\n",
       "      <th>Mileage</th>\n",
       "      <td>0.008867</td>\n",
       "    </tr>\n",
       "    <tr>\n",
       "      <th>kilometers_driven_log</th>\n",
       "      <td>0.007679</td>\n",
       "    </tr>\n",
       "    <tr>\n",
       "      <th>Transmission_Manual</th>\n",
       "      <td>0.006239</td>\n",
       "    </tr>\n",
       "    <tr>\n",
       "      <th>Fuel_Type_Petrol</th>\n",
       "      <td>0.001935</td>\n",
       "    </tr>\n",
       "    <tr>\n",
       "      <th>Location_Kolkata</th>\n",
       "      <td>0.001873</td>\n",
       "    </tr>\n",
       "    <tr>\n",
       "      <th>Fuel_Type_Diesel</th>\n",
       "      <td>0.001691</td>\n",
       "    </tr>\n",
       "    <tr>\n",
       "      <th>Brand_mahindra</th>\n",
       "      <td>0.001637</td>\n",
       "    </tr>\n",
       "    <tr>\n",
       "      <th>New_price</th>\n",
       "      <td>0.000812</td>\n",
       "    </tr>\n",
       "    <tr>\n",
       "      <th>Brand_maruti</th>\n",
       "      <td>0.000605</td>\n",
       "    </tr>\n",
       "    <tr>\n",
       "      <th>Location_Hyderabad</th>\n",
       "      <td>0.000548</td>\n",
       "    </tr>\n",
       "    <tr>\n",
       "      <th>Brand_honda</th>\n",
       "      <td>0.000433</td>\n",
       "    </tr>\n",
       "    <tr>\n",
       "      <th>Brand_tata</th>\n",
       "      <td>0.000410</td>\n",
       "    </tr>\n",
       "    <tr>\n",
       "      <th>Brand_toyota</th>\n",
       "      <td>0.000282</td>\n",
       "    </tr>\n",
       "    <tr>\n",
       "      <th>Brand_mercedes-benz</th>\n",
       "      <td>0.000246</td>\n",
       "    </tr>\n",
       "    <tr>\n",
       "      <th>Seats</th>\n",
       "      <td>0.000229</td>\n",
       "    </tr>\n",
       "    <tr>\n",
       "      <th>Brand_hyundai</th>\n",
       "      <td>0.000181</td>\n",
       "    </tr>\n",
       "    <tr>\n",
       "      <th>Location_Coimbatore</th>\n",
       "      <td>0.000175</td>\n",
       "    </tr>\n",
       "    <tr>\n",
       "      <th>Brand_audi</th>\n",
       "      <td>0.000150</td>\n",
       "    </tr>\n",
       "    <tr>\n",
       "      <th>Location_Jaipur</th>\n",
       "      <td>0.000111</td>\n",
       "    </tr>\n",
       "    <tr>\n",
       "      <th>Owner_Type_Second</th>\n",
       "      <td>0.000096</td>\n",
       "    </tr>\n",
       "    <tr>\n",
       "      <th>Location_Delhi</th>\n",
       "      <td>0.000030</td>\n",
       "    </tr>\n",
       "    <tr>\n",
       "      <th>Brand_volkswagen</th>\n",
       "      <td>0.000021</td>\n",
       "    </tr>\n",
       "    <tr>\n",
       "      <th>Location_Kochi</th>\n",
       "      <td>0.000017</td>\n",
       "    </tr>\n",
       "    <tr>\n",
       "      <th>Location_Mumbai</th>\n",
       "      <td>0.000010</td>\n",
       "    </tr>\n",
       "    <tr>\n",
       "      <th>Location_Pune</th>\n",
       "      <td>0.000009</td>\n",
       "    </tr>\n",
       "    <tr>\n",
       "      <th>Brand_ford</th>\n",
       "      <td>0.000008</td>\n",
       "    </tr>\n",
       "    <tr>\n",
       "      <th>Brand_bmw</th>\n",
       "      <td>0.000001</td>\n",
       "    </tr>\n",
       "    <tr>\n",
       "      <th>Brand_fiat</th>\n",
       "      <td>0.000000</td>\n",
       "    </tr>\n",
       "    <tr>\n",
       "      <th>Brand_force</th>\n",
       "      <td>0.000000</td>\n",
       "    </tr>\n",
       "    <tr>\n",
       "      <th>Location_Bangalore</th>\n",
       "      <td>0.000000</td>\n",
       "    </tr>\n",
       "    <tr>\n",
       "      <th>Location_Chennai</th>\n",
       "      <td>0.000000</td>\n",
       "    </tr>\n",
       "    <tr>\n",
       "      <th>Fuel_Type_Electric</th>\n",
       "      <td>0.000000</td>\n",
       "    </tr>\n",
       "    <tr>\n",
       "      <th>Brand_smart</th>\n",
       "      <td>0.000000</td>\n",
       "    </tr>\n",
       "    <tr>\n",
       "      <th>Brand_skoda</th>\n",
       "      <td>0.000000</td>\n",
       "    </tr>\n",
       "    <tr>\n",
       "      <th>Brand_renault</th>\n",
       "      <td>0.000000</td>\n",
       "    </tr>\n",
       "    <tr>\n",
       "      <th>Brand_porsche</th>\n",
       "      <td>0.000000</td>\n",
       "    </tr>\n",
       "    <tr>\n",
       "      <th>Brand_nissan</th>\n",
       "      <td>0.000000</td>\n",
       "    </tr>\n",
       "    <tr>\n",
       "      <th>Brand_mitsubishi</th>\n",
       "      <td>0.000000</td>\n",
       "    </tr>\n",
       "    <tr>\n",
       "      <th>Brand_mini</th>\n",
       "      <td>0.000000</td>\n",
       "    </tr>\n",
       "    <tr>\n",
       "      <th>Fuel_Type_LPG</th>\n",
       "      <td>0.000000</td>\n",
       "    </tr>\n",
       "    <tr>\n",
       "      <th>Owner_Type_Fourth &amp; Above</th>\n",
       "      <td>0.000000</td>\n",
       "    </tr>\n",
       "    <tr>\n",
       "      <th>Owner_Type_Third</th>\n",
       "      <td>0.000000</td>\n",
       "    </tr>\n",
       "    <tr>\n",
       "      <th>Brand_land</th>\n",
       "      <td>0.000000</td>\n",
       "    </tr>\n",
       "    <tr>\n",
       "      <th>Brand_lamborghini</th>\n",
       "      <td>0.000000</td>\n",
       "    </tr>\n",
       "    <tr>\n",
       "      <th>Brand_jeep</th>\n",
       "      <td>0.000000</td>\n",
       "    </tr>\n",
       "    <tr>\n",
       "      <th>Brand_jaguar</th>\n",
       "      <td>0.000000</td>\n",
       "    </tr>\n",
       "    <tr>\n",
       "      <th>Brand_isuzu</th>\n",
       "      <td>0.000000</td>\n",
       "    </tr>\n",
       "    <tr>\n",
       "      <th>Brand_bentley</th>\n",
       "      <td>0.000000</td>\n",
       "    </tr>\n",
       "    <tr>\n",
       "      <th>Brand_chevrolet</th>\n",
       "      <td>0.000000</td>\n",
       "    </tr>\n",
       "    <tr>\n",
       "      <th>Brand_datsun</th>\n",
       "      <td>0.000000</td>\n",
       "    </tr>\n",
       "    <tr>\n",
       "      <th>Brand_volvo</th>\n",
       "      <td>0.000000</td>\n",
       "    </tr>\n",
       "  </tbody>\n",
       "</table>\n",
       "</div>"
      ],
      "text/plain": [
       "                                Imp\n",
       "Power                      0.681892\n",
       "Year                       0.249748\n",
       "Engine                     0.034064\n",
       "Mileage                    0.008867\n",
       "kilometers_driven_log      0.007679\n",
       "Transmission_Manual        0.006239\n",
       "Fuel_Type_Petrol           0.001935\n",
       "Location_Kolkata           0.001873\n",
       "Fuel_Type_Diesel           0.001691\n",
       "Brand_mahindra             0.001637\n",
       "New_price                  0.000812\n",
       "Brand_maruti               0.000605\n",
       "Location_Hyderabad         0.000548\n",
       "Brand_honda                0.000433\n",
       "Brand_tata                 0.000410\n",
       "Brand_toyota               0.000282\n",
       "Brand_mercedes-benz        0.000246\n",
       "Seats                      0.000229\n",
       "Brand_hyundai              0.000181\n",
       "Location_Coimbatore        0.000175\n",
       "Brand_audi                 0.000150\n",
       "Location_Jaipur            0.000111\n",
       "Owner_Type_Second          0.000096\n",
       "Location_Delhi             0.000030\n",
       "Brand_volkswagen           0.000021\n",
       "Location_Kochi             0.000017\n",
       "Location_Mumbai            0.000010\n",
       "Location_Pune              0.000009\n",
       "Brand_ford                 0.000008\n",
       "Brand_bmw                  0.000001\n",
       "Brand_fiat                 0.000000\n",
       "Brand_force                0.000000\n",
       "Location_Bangalore         0.000000\n",
       "Location_Chennai           0.000000\n",
       "Fuel_Type_Electric         0.000000\n",
       "Brand_smart                0.000000\n",
       "Brand_skoda                0.000000\n",
       "Brand_renault              0.000000\n",
       "Brand_porsche              0.000000\n",
       "Brand_nissan               0.000000\n",
       "Brand_mitsubishi           0.000000\n",
       "Brand_mini                 0.000000\n",
       "Fuel_Type_LPG              0.000000\n",
       "Owner_Type_Fourth & Above  0.000000\n",
       "Owner_Type_Third           0.000000\n",
       "Brand_land                 0.000000\n",
       "Brand_lamborghini          0.000000\n",
       "Brand_jeep                 0.000000\n",
       "Brand_jaguar               0.000000\n",
       "Brand_isuzu                0.000000\n",
       "Brand_bentley              0.000000\n",
       "Brand_chevrolet            0.000000\n",
       "Brand_datsun               0.000000\n",
       "Brand_volvo                0.000000"
      ]
     },
     "execution_count": 704,
     "metadata": {},
     "output_type": "execute_result"
    }
   ],
   "source": [
    "# Print important features of tuned decision tree similar to decision trees\n",
    "im_feature= pd.DataFrame(reggr.feature_importances_, columns = [\"Imp\"], \n",
    "                   index = X_train.columns).sort_values(by = 'Imp', ascending = False)\n",
    "                                                        \n",
    "im_feature\n"
   ]
  },
  {
   "cell_type": "markdown",
   "metadata": {
    "id": "PBoHEXnjtOTC"
   },
   "source": [
    "**Observations and insights: ______**\n",
    "\n",
    "- Power, year and engine are still the most important features but on the hypertuned Random Forest, Mileage comes before Kilometers driven where as on the Random Forest Kilometers Driven is off higher importance. \n",
    "\n",
    "- New Price is also of less importance in the hypertuned Random Forest "
   ]
  },
  {
   "cell_type": "markdown",
   "metadata": {},
   "source": [
    "### **XGBOOST Regressor**"
   ]
  },
  {
   "cell_type": "code",
   "execution_count": null,
   "metadata": {},
   "outputs": [],
   "source": [
    "from sklearn.ensemble import GradientBoostingRegressor"
   ]
  },
  {
   "cell_type": "code",
   "execution_count": 539,
   "metadata": {},
   "outputs": [
    {
     "name": "stdout",
     "output_type": "stream",
     "text": [
      "Best Hyperparameters::\n",
      "{'learning_rate': 0.3, 'loss': 'squared_error', 'max_depth': 3, 'n_estimators': 450}\n"
     ]
    }
   ],
   "source": [
    "parameters = {\n",
    "                \"loss\": ['squared_error', 'absolute_error','huber'],\n",
    "                \"learning_rate\":[0.1,0.01,0.3],\n",
    "                \"n_estimators\":[200,300,400,450],\n",
    "                \"max_depth\": [3,4,5,6,7]\n",
    "                \n",
    "    }\n",
    "Gbr= GradientBoostingRegressor()\n",
    "grid_cv_gbr = GridSearchCV(Gbr, parameters, cv=5)\n",
    "grid_cv_gbr.fit(X_train, y_train['Price_log'])\n",
    "print(\"Best Hyperparameters::\\n{}\".format(grid_cv_gbr.best_params_))"
   ]
  },
  {
   "cell_type": "code",
   "execution_count": 545,
   "metadata": {},
   "outputs": [
    {
     "data": {
      "text/plain": [
       "GradientBoostingRegressor(learning_rate=0.3, n_estimators=450)"
      ]
     },
     "execution_count": 545,
     "metadata": {},
     "output_type": "execute_result"
    }
   ],
   "source": [
    "Gbr= GradientBoostingRegressor(learning_rate=0.3, loss=\"squared_error\", max_depth=3, n_estimators=450)\n",
    "\n",
    "\n",
    "Gbr.fit(X_train, y_train['Price_log'])"
   ]
  },
  {
   "cell_type": "code",
   "execution_count": 546,
   "metadata": {},
   "outputs": [
    {
     "name": "stdout",
     "output_type": "stream",
     "text": [
      "R-sqaure on training set :  0.9888664923466743\n",
      "R-square on test set :  0.9085246444539786\n",
      "RMSE on training set :  1.1788736871188903\n",
      "RMSE on test set :  3.3707883974219315\n"
     ]
    }
   ],
   "source": [
    "model= get_model_score(Gbr)"
   ]
  },
  {
   "cell_type": "code",
   "execution_count": 606,
   "metadata": {},
   "outputs": [
    {
     "data": {
      "text/plain": [
       "0.9868413987460704"
      ]
     },
     "execution_count": 606,
     "metadata": {},
     "output_type": "execute_result"
    }
   ],
   "source": [
    "accuracy_grid_cv_dtm=Gbr.score(X_train,y_train['Price_log'])\n",
    "accuracy_grid_cv_dtm"
   ]
  },
  {
   "cell_type": "code",
   "execution_count": 703,
   "metadata": {},
   "outputs": [
    {
     "data": {
      "text/html": [
       "<div>\n",
       "<style scoped>\n",
       "    .dataframe tbody tr th:only-of-type {\n",
       "        vertical-align: middle;\n",
       "    }\n",
       "\n",
       "    .dataframe tbody tr th {\n",
       "        vertical-align: top;\n",
       "    }\n",
       "\n",
       "    .dataframe thead th {\n",
       "        text-align: right;\n",
       "    }\n",
       "</style>\n",
       "<table border=\"1\" class=\"dataframe\">\n",
       "  <thead>\n",
       "    <tr style=\"text-align: right;\">\n",
       "      <th></th>\n",
       "      <th>Imp</th>\n",
       "    </tr>\n",
       "  </thead>\n",
       "  <tbody>\n",
       "    <tr>\n",
       "      <th>Power</th>\n",
       "      <td>0.473098</td>\n",
       "    </tr>\n",
       "    <tr>\n",
       "      <th>Year</th>\n",
       "      <td>0.233097</td>\n",
       "    </tr>\n",
       "    <tr>\n",
       "      <th>Engine</th>\n",
       "      <td>0.143782</td>\n",
       "    </tr>\n",
       "    <tr>\n",
       "      <th>Transmission_Manual</th>\n",
       "      <td>0.042903</td>\n",
       "    </tr>\n",
       "    <tr>\n",
       "      <th>kilometers_driven_log</th>\n",
       "      <td>0.014030</td>\n",
       "    </tr>\n",
       "    <tr>\n",
       "      <th>Fuel_Type_Diesel</th>\n",
       "      <td>0.013524</td>\n",
       "    </tr>\n",
       "    <tr>\n",
       "      <th>Brand_tata</th>\n",
       "      <td>0.009916</td>\n",
       "    </tr>\n",
       "    <tr>\n",
       "      <th>Mileage</th>\n",
       "      <td>0.008443</td>\n",
       "    </tr>\n",
       "    <tr>\n",
       "      <th>Brand_land</th>\n",
       "      <td>0.007312</td>\n",
       "    </tr>\n",
       "    <tr>\n",
       "      <th>Location_Kolkata</th>\n",
       "      <td>0.005869</td>\n",
       "    </tr>\n",
       "    <tr>\n",
       "      <th>Brand_toyota</th>\n",
       "      <td>0.004850</td>\n",
       "    </tr>\n",
       "    <tr>\n",
       "      <th>Fuel_Type_Petrol</th>\n",
       "      <td>0.004259</td>\n",
       "    </tr>\n",
       "    <tr>\n",
       "      <th>Location_Coimbatore</th>\n",
       "      <td>0.003948</td>\n",
       "    </tr>\n",
       "    <tr>\n",
       "      <th>Brand_chevrolet</th>\n",
       "      <td>0.003456</td>\n",
       "    </tr>\n",
       "    <tr>\n",
       "      <th>Location_Hyderabad</th>\n",
       "      <td>0.003311</td>\n",
       "    </tr>\n",
       "    <tr>\n",
       "      <th>Brand_mercedes-benz</th>\n",
       "      <td>0.003124</td>\n",
       "    </tr>\n",
       "    <tr>\n",
       "      <th>New_price</th>\n",
       "      <td>0.002795</td>\n",
       "    </tr>\n",
       "    <tr>\n",
       "      <th>Location_Bangalore</th>\n",
       "      <td>0.002368</td>\n",
       "    </tr>\n",
       "    <tr>\n",
       "      <th>Brand_mini</th>\n",
       "      <td>0.002140</td>\n",
       "    </tr>\n",
       "    <tr>\n",
       "      <th>Seats</th>\n",
       "      <td>0.001832</td>\n",
       "    </tr>\n",
       "    <tr>\n",
       "      <th>Brand_volkswagen</th>\n",
       "      <td>0.001407</td>\n",
       "    </tr>\n",
       "    <tr>\n",
       "      <th>Brand_bmw</th>\n",
       "      <td>0.001328</td>\n",
       "    </tr>\n",
       "    <tr>\n",
       "      <th>Owner_Type_Third</th>\n",
       "      <td>0.001216</td>\n",
       "    </tr>\n",
       "    <tr>\n",
       "      <th>Brand_audi</th>\n",
       "      <td>0.001186</td>\n",
       "    </tr>\n",
       "    <tr>\n",
       "      <th>Owner_Type_Second</th>\n",
       "      <td>0.001107</td>\n",
       "    </tr>\n",
       "    <tr>\n",
       "      <th>Brand_porsche</th>\n",
       "      <td>0.001074</td>\n",
       "    </tr>\n",
       "    <tr>\n",
       "      <th>Location_Kochi</th>\n",
       "      <td>0.000921</td>\n",
       "    </tr>\n",
       "    <tr>\n",
       "      <th>Brand_honda</th>\n",
       "      <td>0.000829</td>\n",
       "    </tr>\n",
       "    <tr>\n",
       "      <th>Location_Jaipur</th>\n",
       "      <td>0.000808</td>\n",
       "    </tr>\n",
       "    <tr>\n",
       "      <th>Brand_hyundai</th>\n",
       "      <td>0.000676</td>\n",
       "    </tr>\n",
       "    <tr>\n",
       "      <th>Brand_mahindra</th>\n",
       "      <td>0.000663</td>\n",
       "    </tr>\n",
       "    <tr>\n",
       "      <th>Brand_skoda</th>\n",
       "      <td>0.000555</td>\n",
       "    </tr>\n",
       "    <tr>\n",
       "      <th>Brand_fiat</th>\n",
       "      <td>0.000539</td>\n",
       "    </tr>\n",
       "    <tr>\n",
       "      <th>Brand_maruti</th>\n",
       "      <td>0.000504</td>\n",
       "    </tr>\n",
       "    <tr>\n",
       "      <th>Location_Mumbai</th>\n",
       "      <td>0.000487</td>\n",
       "    </tr>\n",
       "    <tr>\n",
       "      <th>Location_Delhi</th>\n",
       "      <td>0.000398</td>\n",
       "    </tr>\n",
       "    <tr>\n",
       "      <th>Location_Chennai</th>\n",
       "      <td>0.000341</td>\n",
       "    </tr>\n",
       "    <tr>\n",
       "      <th>Brand_ford</th>\n",
       "      <td>0.000325</td>\n",
       "    </tr>\n",
       "    <tr>\n",
       "      <th>Brand_jaguar</th>\n",
       "      <td>0.000308</td>\n",
       "    </tr>\n",
       "    <tr>\n",
       "      <th>Fuel_Type_Electric</th>\n",
       "      <td>0.000295</td>\n",
       "    </tr>\n",
       "    <tr>\n",
       "      <th>Brand_renault</th>\n",
       "      <td>0.000197</td>\n",
       "    </tr>\n",
       "    <tr>\n",
       "      <th>Location_Pune</th>\n",
       "      <td>0.000179</td>\n",
       "    </tr>\n",
       "    <tr>\n",
       "      <th>Brand_mitsubishi</th>\n",
       "      <td>0.000174</td>\n",
       "    </tr>\n",
       "    <tr>\n",
       "      <th>Owner_Type_Fourth &amp; Above</th>\n",
       "      <td>0.000112</td>\n",
       "    </tr>\n",
       "    <tr>\n",
       "      <th>Brand_nissan</th>\n",
       "      <td>0.000107</td>\n",
       "    </tr>\n",
       "    <tr>\n",
       "      <th>Brand_isuzu</th>\n",
       "      <td>0.000083</td>\n",
       "    </tr>\n",
       "    <tr>\n",
       "      <th>Brand_datsun</th>\n",
       "      <td>0.000058</td>\n",
       "    </tr>\n",
       "    <tr>\n",
       "      <th>Brand_volvo</th>\n",
       "      <td>0.000028</td>\n",
       "    </tr>\n",
       "    <tr>\n",
       "      <th>Brand_bentley</th>\n",
       "      <td>0.000018</td>\n",
       "    </tr>\n",
       "    <tr>\n",
       "      <th>Brand_smart</th>\n",
       "      <td>0.000012</td>\n",
       "    </tr>\n",
       "    <tr>\n",
       "      <th>Fuel_Type_LPG</th>\n",
       "      <td>0.000006</td>\n",
       "    </tr>\n",
       "    <tr>\n",
       "      <th>Brand_force</th>\n",
       "      <td>0.000002</td>\n",
       "    </tr>\n",
       "    <tr>\n",
       "      <th>Brand_jeep</th>\n",
       "      <td>0.000000</td>\n",
       "    </tr>\n",
       "    <tr>\n",
       "      <th>Brand_lamborghini</th>\n",
       "      <td>0.000000</td>\n",
       "    </tr>\n",
       "  </tbody>\n",
       "</table>\n",
       "</div>"
      ],
      "text/plain": [
       "                                Imp\n",
       "Power                      0.473098\n",
       "Year                       0.233097\n",
       "Engine                     0.143782\n",
       "Transmission_Manual        0.042903\n",
       "kilometers_driven_log      0.014030\n",
       "Fuel_Type_Diesel           0.013524\n",
       "Brand_tata                 0.009916\n",
       "Mileage                    0.008443\n",
       "Brand_land                 0.007312\n",
       "Location_Kolkata           0.005869\n",
       "Brand_toyota               0.004850\n",
       "Fuel_Type_Petrol           0.004259\n",
       "Location_Coimbatore        0.003948\n",
       "Brand_chevrolet            0.003456\n",
       "Location_Hyderabad         0.003311\n",
       "Brand_mercedes-benz        0.003124\n",
       "New_price                  0.002795\n",
       "Location_Bangalore         0.002368\n",
       "Brand_mini                 0.002140\n",
       "Seats                      0.001832\n",
       "Brand_volkswagen           0.001407\n",
       "Brand_bmw                  0.001328\n",
       "Owner_Type_Third           0.001216\n",
       "Brand_audi                 0.001186\n",
       "Owner_Type_Second          0.001107\n",
       "Brand_porsche              0.001074\n",
       "Location_Kochi             0.000921\n",
       "Brand_honda                0.000829\n",
       "Location_Jaipur            0.000808\n",
       "Brand_hyundai              0.000676\n",
       "Brand_mahindra             0.000663\n",
       "Brand_skoda                0.000555\n",
       "Brand_fiat                 0.000539\n",
       "Brand_maruti               0.000504\n",
       "Location_Mumbai            0.000487\n",
       "Location_Delhi             0.000398\n",
       "Location_Chennai           0.000341\n",
       "Brand_ford                 0.000325\n",
       "Brand_jaguar               0.000308\n",
       "Fuel_Type_Electric         0.000295\n",
       "Brand_renault              0.000197\n",
       "Location_Pune              0.000179\n",
       "Brand_mitsubishi           0.000174\n",
       "Owner_Type_Fourth & Above  0.000112\n",
       "Brand_nissan               0.000107\n",
       "Brand_isuzu                0.000083\n",
       "Brand_datsun               0.000058\n",
       "Brand_volvo                0.000028\n",
       "Brand_bentley              0.000018\n",
       "Brand_smart                0.000012\n",
       "Fuel_Type_LPG              0.000006\n",
       "Brand_force                0.000002\n",
       "Brand_jeep                 0.000000\n",
       "Brand_lamborghini          0.000000"
      ]
     },
     "execution_count": 703,
     "metadata": {},
     "output_type": "execute_result"
    }
   ],
   "source": [
    "im_feature= pd.DataFrame(Gbr.feature_importances_, columns = [\"Imp\"], \n",
    "                   index = X_train.columns).sort_values(by = 'Imp', ascending = False)\n",
    "                                                        \n",
    "im_feature"
   ]
  },
  {
   "cell_type": "markdown",
   "metadata": {},
   "source": [
    " Power, year and engine are the most impactful features in the model."
   ]
  },
  {
   "cell_type": "code",
   "execution_count": 816,
   "metadata": {},
   "outputs": [],
   "source": [
    "# Defining list of models you have trained\n",
    "models = [lr,clf,dtree,regr,dtree_tuned,reggr, Gbr]\n",
    "\n",
    "# Defining empty lists to add train and test results\n",
    "r2_train = []\n",
    "r2_test = []\n",
    "rmse_train = []\n",
    "rmse_test = []\n",
    "\n",
    "# Looping through all the models to get the rmse and r2 scores\n",
    "for model in models:\n",
    "    \n",
    "    # Accuracy score\n",
    "    j = get_model_score(model, False)\n",
    "    \n",
    "    r2_train.append(j[0])\n",
    "    \n",
    "    r2_test.append(j[1])\n",
    "    \n",
    "    rmse_train.append(j[2])\n",
    "    \n",
    "    rmse_test.append(j[3])\n",
    "    \n",
    "   \n"
   ]
  },
  {
   "cell_type": "code",
   "execution_count": 817,
   "metadata": {
    "id": "zuLokC7xtOTD"
   },
   "outputs": [
    {
     "data": {
      "text/html": [
       "<div>\n",
       "<style scoped>\n",
       "    .dataframe tbody tr th:only-of-type {\n",
       "        vertical-align: middle;\n",
       "    }\n",
       "\n",
       "    .dataframe tbody tr th {\n",
       "        vertical-align: top;\n",
       "    }\n",
       "\n",
       "    .dataframe thead th {\n",
       "        text-align: right;\n",
       "    }\n",
       "</style>\n",
       "<table border=\"1\" class=\"dataframe\">\n",
       "  <thead>\n",
       "    <tr style=\"text-align: right;\">\n",
       "      <th></th>\n",
       "      <th>Train_r2</th>\n",
       "      <th>Test_r2</th>\n",
       "      <th>Train_RMSE</th>\n",
       "      <th>Test_RMSE</th>\n",
       "    </tr>\n",
       "    <tr>\n",
       "      <th>Model</th>\n",
       "      <th></th>\n",
       "      <th></th>\n",
       "      <th></th>\n",
       "      <th></th>\n",
       "    </tr>\n",
       "  </thead>\n",
       "  <tbody>\n",
       "    <tr>\n",
       "      <th>Linear Regression</th>\n",
       "      <td>0.861378</td>\n",
       "      <td>0.860809</td>\n",
       "      <td>4.159755</td>\n",
       "      <td>4.158004</td>\n",
       "    </tr>\n",
       "    <tr>\n",
       "      <th>Ridge</th>\n",
       "      <td>0.861341</td>\n",
       "      <td>0.860791</td>\n",
       "      <td>4.160308</td>\n",
       "      <td>4.158271</td>\n",
       "    </tr>\n",
       "    <tr>\n",
       "      <th>Decision Tree</th>\n",
       "      <td>0.999997</td>\n",
       "      <td>0.827484</td>\n",
       "      <td>0.020693</td>\n",
       "      <td>4.629072</td>\n",
       "    </tr>\n",
       "    <tr>\n",
       "      <th>Random Forest</th>\n",
       "      <td>0.974964</td>\n",
       "      <td>0.857122</td>\n",
       "      <td>1.767817</td>\n",
       "      <td>4.212711</td>\n",
       "    </tr>\n",
       "    <tr>\n",
       "      <th>Decision Tree Grid_Cv</th>\n",
       "      <td>0.836065</td>\n",
       "      <td>0.791020</td>\n",
       "      <td>4.523631</td>\n",
       "      <td>5.094850</td>\n",
       "    </tr>\n",
       "    <tr>\n",
       "      <th>Random Forest Grid_Cv</th>\n",
       "      <td>0.848269</td>\n",
       "      <td>0.810148</td>\n",
       "      <td>4.352002</td>\n",
       "      <td>4.856092</td>\n",
       "    </tr>\n",
       "    <tr>\n",
       "      <th>XGBOOST Regressor</th>\n",
       "      <td>0.988866</td>\n",
       "      <td>0.908525</td>\n",
       "      <td>1.178874</td>\n",
       "      <td>3.370788</td>\n",
       "    </tr>\n",
       "  </tbody>\n",
       "</table>\n",
       "</div>"
      ],
      "text/plain": [
       "                       Train_r2   Test_r2  Train_RMSE  Test_RMSE\n",
       "Model                                                           \n",
       "Linear Regression      0.861378  0.860809    4.159755   4.158004\n",
       "Ridge                  0.861341  0.860791    4.160308   4.158271\n",
       "Decision Tree          0.999997  0.827484    0.020693   4.629072\n",
       "Random Forest          0.974964  0.857122    1.767817   4.212711\n",
       "Decision Tree Grid_Cv  0.836065  0.791020    4.523631   5.094850\n",
       "Random Forest Grid_Cv  0.848269  0.810148    4.352002   4.856092\n",
       "XGBOOST Regressor      0.988866  0.908525    1.178874   3.370788"
      ]
     },
     "execution_count": 817,
     "metadata": {},
     "output_type": "execute_result"
    }
   ],
   "source": [
    "comparison_frame = pd.DataFrame({'Model':['Linear Regression','Ridge', 'Decision Tree', \n",
    "                                          'Random Forest','Decision Tree Grid_Cv',\n",
    "                                          'Random Forest Grid_Cv', 'XGBOOST Regressor'], \n",
    "                                 \n",
    "                                          'Train_r2': r2_train,\n",
    "                                          'Test_r2': r2_test,\n",
    "                                          'Train_RMSE': rmse_train,\n",
    "                                          'Test_RMSE': rmse_test\n",
    "                                }\n",
    "                               ) \n",
    "comparison_frame= comparison_frame.set_index('Model')\n",
    "comparison_frame"
   ]
  },
  {
   "cell_type": "code",
   "execution_count": 800,
   "metadata": {},
   "outputs": [
    {
     "data": {
      "image/png": "[encoded data removed]",
      "text/plain": [
       "<Figure size 1080x720 with 1 Axes>"
      ]
     },
     "metadata": {},
     "output_type": "display_data"
    }
   ],
   "source": [
    "\n",
    "\n",
    "comparison_frame.plot.bar(figsize= (15,10));\n"
   ]
  },
  {
   "cell_type": "markdown",
   "metadata": {
    "id": "TZrq2E9VtOTD"
   },
   "source": [
    "**Observations: _____**\n",
    "- the XGboost regressor performs better than the other algorithms and has the least error on the test data.\n",
    "- Random forest performs better than the decision tree even after hyperparameter tuning \n",
    "- Linear regression performed better than Ridge. "
   ]
  },
  {
   "cell_type": "markdown",
   "metadata": {
    "id": "acSjU_ZFvyVt"
   },
   "source": [
    "**Note:** You can also try some other algorithms such as KNN and compare the model performance with the existing ones."
   ]
  },
  {
   "cell_type": "markdown",
   "metadata": {
    "id": "58KMVhO_tOTD"
   },
   "source": [
    "### **Insights**\n",
    "\n",
    "**Refined insights**:\n",
    "- What are the most meaningful insights from the data relevant to the problem?\n",
    "    - Some of the most meaningful insights gotten from the data which are relevant to the problem are the feature importance. Each built model is able to provide us with the order of feature importance which lets us know which features influnced the price_log variable the most.\n",
    "    - Power, year and engine are the most important factors in determining the price of a used car.\n",
    "    - Most of the cars transmission are manual but the most costly cars are automatic\n",
    "    - cars which have been sold just once in the past fetch the most money. The more the number of owners , the less the value of the car.\n",
    "    - It is not clear why but cars with Diesel as their fuel type are sold the most. in second place is petrol. This means your car will fetch a higher amount if it has one of these fuel types. \n",
    "    - The higher the Power of a car, the higher the price\n",
    "\n",
    "**Comparison of various techniques and their relative performance**:\n",
    "- How do different techniques perform? Which one is performing relatively better? Is there scope to improve the performance further?\n",
    "    - Decision tree and random forest overfit the data but after hypertuning the models using grid search cv, both      perfomed relatively better. Linear regression outperformed the regularization technique Ridge.\n",
    "    - The coefficient of the determinant r squared , which is the variance in the target variable that is predictable from the independent variables tells us that the data bests fits the XGBOOST Regressor model. This model also has the lowest Root Mean Squared Error.\n",
    "    - perhaps further tuning of the parameters trying different range of values might produce sightly better results or even designing deep learning network structures\n",
    "\n",
    "**Proposal for the final solution design**:\n",
    "- What model do you propose to be adopted? Why is this the best solution to adopt?\n",
    "    - The proposed model for my final solution will be the XGBoost Regressor\n",
    "    - the variance in the target variable that is predictable from the independent variables tells us that the data bests fits the XGBOOST Regressor model. This model also has the lowest Root Mean Squared Error.\n",
    "    - The first three features that influences the result the most are the same as the Random Forest Regressor and Decision Tree Regressor but the fourth onwards are different. I believe this is one of the reasons why this Model has better results."
   ]
  },
  {
   "cell_type": "code",
   "execution_count": null,
   "metadata": {},
   "outputs": [],
   "source": []
  }
 ],
 "metadata": {
  "colab": {
   "collapsed_sections": [
    "a1WHqIX9tOTC",
    "PBoHEXnjtOTC",
    "TZrq2E9VtOTD"
   ],
   "name": "Reference_Notebook_Milestone_2_Regression.ipynb",
   "provenance": []
  },
  "kernelspec": {
   "display_name": "Python 3 (ipykernel)",
   "language": "python",
   "name": "python3"
  },
  "language_info": {
   "codemirror_mode": {
    "name": "ipython",
    "version": 3
   },
   "file_extension": ".py",
   "mimetype": "text/x-python",
   "name": "python",
   "nbconvert_exporter": "python",
   "pygments_lexer": "ipython3",
   "version": "3.9.12"
  },
  "varInspector": {
   "cols": {
    "lenName": 16,
    "lenType": 16,
    "lenVar": 40
   },
   "kernels_config": {
    "python": {
     "delete_cmd_postfix": "",
     "delete_cmd_prefix": "del ",
     "library": "var_list.py",
     "varRefreshCmd": "print(var_dic_list())"
    },
    "r": {
     "delete_cmd_postfix": ") ",
     "delete_cmd_prefix": "rm(",
     "library": "var_list.r",
     "varRefreshCmd": "cat(var_dic_list()) "
    }
   },
   "types_to_exclude": [
    "module",
    "function",
    "builtin_function_or_method",
    "instance",
    "_Feature"
   ],
   "window_display": false
  }
 },
 "nbformat": 4,
 "nbformat_minor": 1
}
